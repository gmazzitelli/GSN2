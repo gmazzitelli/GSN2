{
  "nbformat": 4,
  "nbformat_minor": 0,
  "metadata": {
    "colab": {
      "name": "AnagraficheCSN2.ipynb",
      "provenance": [],
      "authorship_tag": "ABX9TyNmumvDETVrZTvyuOkYMpc3",
      "include_colab_link": true
    },
    "kernelspec": {
      "name": "python3",
      "display_name": "Python 3"
    }
  },
  "cells": [
    {
      "cell_type": "markdown",
      "metadata": {
        "id": "view-in-github",
        "colab_type": "text"
      },
      "source": [
        "<a href=\"https://colab.research.google.com/github/gmazzitelli/GSN2/blob/master/AnagraficheCSN2.ipynb\" target=\"_parent\"><img src=\"https://colab.research.google.com/assets/colab-badge.svg\" alt=\"Open In Colab\"/></a>"
      ]
    },
    {
      "cell_type": "markdown",
      "metadata": {
        "id": "ScpfBN8qMgWS",
        "colab_type": "text"
      },
      "source": [
        "Analisi Anagrafiche CSN2"
      ]
    },
    {
      "cell_type": "code",
      "metadata": {
        "id": "Qyak-tYvMe3x",
        "colab_type": "code",
        "colab": {}
      },
      "source": [
        "# \n",
        "# data source https://reportgodiva.dsi.infn.it/ per anagrafiche\n",
        "# data source https://dbprogetti.dsi.infn.it/dbprogetti/listaProgettiFE per progetti su fondi esterni\n",
        "# https://drive.google.com/file/d/1pTju26izsWDAd90vn80qEyNbfnC5Q9Oh/\n",
        "# \n",
        "def load_from_gspreadsheet(key, sheet_name):\n",
        "    # google spredsheet TO url \n",
        "    # url = \"https://docs.google.com/spreadsheet/ccc?key=\"+key+\"&output=csv&sheet={Sheet2}\"\n",
        "    url = 'https://docs.google.com/spreadsheets/d/{key}/gviz/tq?tqx=out:csv&sheet={sheet_name}&headers=1'.format(\n",
        "        key=key, sheet_name=sheet_name.replace(' ', '%20'))\n",
        "    print(url)\n",
        "    return url\n",
        "def sp2pd(key, sheet_name, verbose=False):\n",
        "    # spreadsheet TO Panda\n",
        "    import pandas as pd\n",
        "    df = pd.read_csv(load_from_gspreadsheet(key, sheet_name))\n",
        "    # df = df[df.File_Number.isnull() == False]\n",
        "    df.fillna('', inplace=True)\n",
        "    if verbose: print ('Variables: ', df.columns.values)\n",
        "    return df\n",
        "import matplotlib.pyplot as plt\n",
        "import pandas as pd\n",
        "import numpy as np\n",
        "plt.style.use('fast')\n",
        "plt.rc('font', size = 14, family ='Sans-Serif')"
      ],
      "execution_count": 1,
      "outputs": []
    },
    {
      "cell_type": "code",
      "metadata": {
        "id": "v7j7cZvfYtvG",
        "colab_type": "code",
        "colab": {
          "base_uri": "https://localhost:8080/",
          "height": 51
        },
        "outputId": "aabade1b-40f0-4022-efb4-47406631d6b2"
      },
      "source": [
        "INFN = sp2pd(key='1pTju26izsWDAd90vn80qEyNbfnC5Q9Oh', sheet_name='INFN')\n",
        "CSN2 = sp2pd(key='1pTju26izsWDAd90vn80qEyNbfnC5Q9Oh', sheet_name='CSN2')"
      ],
      "execution_count": 2,
      "outputs": [
        {
          "output_type": "stream",
          "text": [
            "https://docs.google.com/spreadsheets/d/1pTju26izsWDAd90vn80qEyNbfnC5Q9Oh/gviz/tq?tqx=out:csv&sheet=INFN&headers=1\n",
            "https://docs.google.com/spreadsheets/d/1pTju26izsWDAd90vn80qEyNbfnC5Q9Oh/gviz/tq?tqx=out:csv&sheet=CSN2&headers=1\n"
          ],
          "name": "stdout"
        }
      ]
    },
    {
      "cell_type": "code",
      "metadata": {
        "id": "MVeDdKEOcZCJ",
        "colab_type": "code",
        "colab": {
          "base_uri": "https://localhost:8080/",
          "height": 419
        },
        "outputId": "27f5785d-db93-45c1-aef4-d8838b3aef81"
      },
      "source": [
        "CSN2"
      ],
      "execution_count": 3,
      "outputs": [
        {
          "output_type": "execute_result",
          "data": {
            "text/html": [
              "<div>\n",
              "<style scoped>\n",
              "    .dataframe tbody tr th:only-of-type {\n",
              "        vertical-align: middle;\n",
              "    }\n",
              "\n",
              "    .dataframe tbody tr th {\n",
              "        vertical-align: top;\n",
              "    }\n",
              "\n",
              "    .dataframe thead th {\n",
              "        text-align: right;\n",
              "    }\n",
              "</style>\n",
              "<table border=\"1\" class=\"dataframe\">\n",
              "  <thead>\n",
              "    <tr style=\"text-align: right;\">\n",
              "      <th></th>\n",
              "      <th>Cognome</th>\n",
              "      <th>Nome</th>\n",
              "      <th>Eta'</th>\n",
              "      <th>Genere</th>\n",
              "      <th>Contratti</th>\n",
              "      <th>Esperimenti</th>\n",
              "      <th>Finanziamenti Contratto</th>\n",
              "    </tr>\n",
              "  </thead>\n",
              "  <tbody>\n",
              "    <tr>\n",
              "      <th>0</th>\n",
              "      <td>Acerbi</td>\n",
              "      <td>Fabio</td>\n",
              "      <td>36</td>\n",
              "      <td>M</td>\n",
              "      <td>(01/01/2020 - 31/12/2020) Associato Scientific...</td>\n",
              "      <td>30% - (TIFP:CSN2) DARKSIDE (Ricercatore)</td>\n",
              "      <td></td>\n",
              "    </tr>\n",
              "    <tr>\n",
              "      <th>1</th>\n",
              "      <td>Acernese</td>\n",
              "      <td>Fausto</td>\n",
              "      <td>45</td>\n",
              "      <td>M</td>\n",
              "      <td>(01/01/2020 - 31/12/2020) Associato Incarico d...</td>\n",
              "      <td>20% - (NA:CSN2) ET_ITALIA (Ricercatore)\\n 80% ...</td>\n",
              "      <td></td>\n",
              "    </tr>\n",
              "    <tr>\n",
              "      <th>2</th>\n",
              "      <td>Addazi</td>\n",
              "      <td>Andrea</td>\n",
              "      <td>31</td>\n",
              "      <td>M</td>\n",
              "      <td>(15/01/2020 - 31/12/2020) Associato Scientific...</td>\n",
              "      <td>40% - (ROMA2:CSN2) DAMA (Ricercatore)</td>\n",
              "      <td></td>\n",
              "    </tr>\n",
              "    <tr>\n",
              "      <th>3</th>\n",
              "      <td>Addesso</td>\n",
              "      <td>Paolo</td>\n",
              "      <td>45</td>\n",
              "      <td>M</td>\n",
              "      <td>(01/01/2020 - 31/12/2020) Associato Tecnologic...</td>\n",
              "      <td>20% - (SA:CSN2) VIRGO (Ricercatore)</td>\n",
              "      <td></td>\n",
              "    </tr>\n",
              "    <tr>\n",
              "      <th>4</th>\n",
              "      <td>Adriani</td>\n",
              "      <td>Oscar</td>\n",
              "      <td>55</td>\n",
              "      <td>M</td>\n",
              "      <td>(01/01/2020 - 31/12/2020) Associato Incarico d...</td>\n",
              "      <td>30% - (FI:CSN1) LHCF (Ricercatore)\\n 70% - (FI...</td>\n",
              "      <td></td>\n",
              "    </tr>\n",
              "    <tr>\n",
              "      <th>...</th>\n",
              "      <td>...</td>\n",
              "      <td>...</td>\n",
              "      <td>...</td>\n",
              "      <td>...</td>\n",
              "      <td>...</td>\n",
              "      <td>...</td>\n",
              "      <td>...</td>\n",
              "    </tr>\n",
              "    <tr>\n",
              "      <th>1587</th>\n",
              "      <td>Zendri</td>\n",
              "      <td>Jean Pierre</td>\n",
              "      <td>57</td>\n",
              "      <td>M</td>\n",
              "      <td></td>\n",
              "      <td>40% - (PD:CSN2) ET_ITALIA (Ricercatore)\\n 60% ...</td>\n",
              "      <td></td>\n",
              "    </tr>\n",
              "    <tr>\n",
              "      <th>1588</th>\n",
              "      <td>Zichichi</td>\n",
              "      <td>Antonino</td>\n",
              "      <td>90</td>\n",
              "      <td>M</td>\n",
              "      <td>(01/01/2020 - 31/12/2020) Associato Incarico d...</td>\n",
              "      <td>0% - (BO:CSN2) AMS2 (Ricercatore)\\n 0% - (BO:C...</td>\n",
              "      <td></td>\n",
              "    </tr>\n",
              "    <tr>\n",
              "      <th>1589</th>\n",
              "      <td>Zuccarello</td>\n",
              "      <td>Francesca</td>\n",
              "      <td>66</td>\n",
              "      <td>F</td>\n",
              "      <td>(01/01/2020 - 31/12/2020) Associato Scientific...</td>\n",
              "      <td>20% - (CT:CSN2) AUGER (Ricercatore)\\n 30% - (C...</td>\n",
              "      <td></td>\n",
              "    </tr>\n",
              "    <tr>\n",
              "      <th>1590</th>\n",
              "      <td>Zucchelli</td>\n",
              "      <td>Stefano</td>\n",
              "      <td>66</td>\n",
              "      <td>M</td>\n",
              "      <td>(01/01/2020 - 31/12/2020) Associato Incarico d...</td>\n",
              "      <td>60% - (BO:CSN1) LHC-B (Ricercatore)\\n 30% - (B...</td>\n",
              "      <td></td>\n",
              "    </tr>\n",
              "    <tr>\n",
              "      <th>1591</th>\n",
              "      <td>Zuccon</td>\n",
              "      <td>Paolo</td>\n",
              "      <td>47</td>\n",
              "      <td>M</td>\n",
              "      <td>(01/01/2020 - 31/12/2020) Associato Incarico d...</td>\n",
              "      <td>70% - (TIFP:CSN2) AMS2 (Ricercatore)\\n 20% - (...</td>\n",
              "      <td></td>\n",
              "    </tr>\n",
              "  </tbody>\n",
              "</table>\n",
              "<p>1592 rows × 7 columns</p>\n",
              "</div>"
            ],
            "text/plain": [
              "         Cognome  ... Finanziamenti Contratto\n",
              "0         Acerbi  ...                        \n",
              "1       Acernese  ...                        \n",
              "2         Addazi  ...                        \n",
              "3        Addesso  ...                        \n",
              "4        Adriani  ...                        \n",
              "...          ...  ...                     ...\n",
              "1587      Zendri  ...                        \n",
              "1588    Zichichi  ...                        \n",
              "1589  Zuccarello  ...                        \n",
              "1590   Zucchelli  ...                        \n",
              "1591      Zuccon  ...                        \n",
              "\n",
              "[1592 rows x 7 columns]"
            ]
          },
          "metadata": {
            "tags": []
          },
          "execution_count": 3
        }
      ]
    },
    {
      "cell_type": "code",
      "metadata": {
        "id": "j7NQ-MGvd2Ik",
        "colab_type": "code",
        "colab": {
          "base_uri": "https://localhost:8080/",
          "height": 513
        },
        "outputId": "fa9c484e-b6bb-4f5b-a3aa-6d5bc533adeb"
      },
      "source": [
        "plt.hist(CSN2[\"Eta'\"])\n",
        "plt.show()\n",
        "plt.hist(CSN2.Genere)\n",
        "plt.show()"
      ],
      "execution_count": 4,
      "outputs": [
        {
          "output_type": "display_data",
          "data": {
            "image/png": "[encoded data removed]",
            "text/plain": [
              "<Figure size 432x288 with 1 Axes>"
            ]
          },
          "metadata": {
            "tags": [],
            "needs_background": "light"
          }
        },
        {
          "output_type": "display_data",
          "data": {
            "image/png": "[encoded data removed]",
            "text/plain": [
              "<Figure size 432x288 with 1 Axes>"
            ]
          },
          "metadata": {
            "tags": [],
            "needs_background": "light"
          }
        }
      ]
    },
    {
      "cell_type": "code",
      "metadata": {
        "id": "8-pt20wjV9ML",
        "colab_type": "code",
        "colab": {
          "base_uri": "https://localhost:8080/",
          "height": 68
        },
        "outputId": "64aa8259-f203-412b-f51e-ea73473e85df"
      },
      "source": [
        "CSN2.columns"
      ],
      "execution_count": 7,
      "outputs": [
        {
          "output_type": "execute_result",
          "data": {
            "text/plain": [
              "Index(['Cognome', 'Nome', 'Eta'', 'Genere', 'Contratti', 'Esperimenti',\n",
              "       'Finanziamenti Contratto'],\n",
              "      dtype='object')"
            ]
          },
          "metadata": {
            "tags": []
          },
          "execution_count": 7
        }
      ]
    },
    {
      "cell_type": "code",
      "metadata": {
        "id": "oXSE2hpshYb1",
        "colab_type": "code",
        "colab": {
          "base_uri": "https://localhost:8080/",
          "height": 34
        },
        "outputId": "1f3a85ad-263d-436f-ad8b-5835ae251f98"
      },
      "source": [
        "dipendenti = pd.DataFrame(columns = CSN2.columns) \n",
        "associati  = pd.DataFrame(columns = CSN2.columns) \n",
        "dottorandi = pd.DataFrame(columns = CSN2.columns) \n",
        "borsisti   = pd.DataFrame(columns = CSN2.columns) \n",
        "assegnisti = pd.DataFrame(columns = CSN2.columns) \n",
        "tecnici    = pd.DataFrame(columns = CSN2.columns) \n",
        "for i, contratto in enumerate(CSN2.Contratti):\n",
        "  if contratto == '':\n",
        "    dipendenti = dipendenti.append(CSN2.iloc[i], ignore_index=True)\n",
        "  elif contratto.find('Associato')>=0:\n",
        "    associati = associati.append(CSN2.iloc[i], ignore_index=True)\n",
        "  if contratto.find('Dottorando')>=0:\n",
        "    dottorandi = dottorandi.append(CSN2.iloc[i], ignore_index=True)\n",
        "  if contratto.find('Borsista')>=0:\n",
        "    borsisti = borsisti.append(CSN2.iloc[i], ignore_index=True)\n",
        "  if contratto.find('Assegnista')>=0:\n",
        "    assegnisti = assegnisti.append(CSN2.iloc[i], ignore_index=True)\n",
        "  if contratto.find('Tecnico')>=0:\n",
        "    tecnici = tecnici.append(CSN2.iloc[i], ignore_index=True)\n",
        "\n",
        "print (len(CSN2),len(dipendenti), len(associati), len(dottorandi), len(borsisti), len(assegnisti), len(tecnici))"
      ],
      "execution_count": 69,
      "outputs": [
        {
          "output_type": "stream",
          "text": [
            "1592 624 877 127 13 59 44\n"
          ],
          "name": "stdout"
        }
      ]
    },
    {
      "cell_type": "code",
      "metadata": {
        "id": "L_JF0Opnay4e",
        "colab_type": "code",
        "colab": {
          "base_uri": "https://localhost:8080/",
          "height": 452
        },
        "outputId": "5ccf93b5-9abd-4ecd-beb2-a55ba6d82d9e"
      },
      "source": [
        "borsisti"
      ],
      "execution_count": 68,
      "outputs": [
        {
          "output_type": "execute_result",
          "data": {
            "text/html": [
              "<div>\n",
              "<style scoped>\n",
              "    .dataframe tbody tr th:only-of-type {\n",
              "        vertical-align: middle;\n",
              "    }\n",
              "\n",
              "    .dataframe tbody tr th {\n",
              "        vertical-align: top;\n",
              "    }\n",
              "\n",
              "    .dataframe thead th {\n",
              "        text-align: right;\n",
              "    }\n",
              "</style>\n",
              "<table border=\"1\" class=\"dataframe\">\n",
              "  <thead>\n",
              "    <tr style=\"text-align: right;\">\n",
              "      <th></th>\n",
              "      <th>Cognome</th>\n",
              "      <th>Nome</th>\n",
              "      <th>Eta'</th>\n",
              "      <th>Genere</th>\n",
              "      <th>Contratti</th>\n",
              "      <th>Esperimenti</th>\n",
              "      <th>Finanziamenti Contratto</th>\n",
              "    </tr>\n",
              "  </thead>\n",
              "  <tbody>\n",
              "    <tr>\n",
              "      <th>0</th>\n",
              "      <td>Alexandrov</td>\n",
              "      <td>Andrey</td>\n",
              "      <td>40</td>\n",
              "      <td>M</td>\n",
              "      <td>(03/05/2020 - 02/05/2021) Associato Scientific...</td>\n",
              "      <td>100% - (NA:CSN2) NEWS (Ricercatore)</td>\n",
              "      <td></td>\n",
              "    </tr>\n",
              "    <tr>\n",
              "      <th>1</th>\n",
              "      <td>Asada</td>\n",
              "      <td>Takashi</td>\n",
              "      <td>32</td>\n",
              "      <td>M</td>\n",
              "      <td>(01/06/2019 - 31/05/2021) Dipendente Borse pos...</td>\n",
              "      <td>100% - (LNGS:CSN2) NEWS (Ricercatore)</td>\n",
              "      <td>FOE (01-06-2019 / 31-05-2021)</td>\n",
              "    </tr>\n",
              "    <tr>\n",
              "      <th>2</th>\n",
              "      <td>Carniti</td>\n",
              "      <td>Paolo</td>\n",
              "      <td>31</td>\n",
              "      <td>M</td>\n",
              "      <td>(01/02/2018 - 31/01/2022) Associato Scientific...</td>\n",
              "      <td>20% - (MIB:CSN1) FASE2_CMS (Tecnologo)\\n 60% -...</td>\n",
              "      <td></td>\n",
              "    </tr>\n",
              "    <tr>\n",
              "      <th>3</th>\n",
              "      <td>Ferella</td>\n",
              "      <td>Francesco</td>\n",
              "      <td>29</td>\n",
              "      <td>M</td>\n",
              "      <td>(02/03/2020 - 01/03/2021) Dipendente Neolaurea...</td>\n",
              "      <td>100% - (LNGS:CSN2) GERDA (Ricercatore)</td>\n",
              "      <td>GERDA CF (02-03-2020 / 01-03-2021)</td>\n",
              "    </tr>\n",
              "    <tr>\n",
              "      <th>4</th>\n",
              "      <td>Fronzé</td>\n",
              "      <td>Gabriele Gaetano</td>\n",
              "      <td>28</td>\n",
              "      <td>M</td>\n",
              "      <td>(05/11/2019 - 04/11/2020) Dipendente Da defini...</td>\n",
              "      <td>95% - (TO:CSN2) VIRGO (Tecnologo)\\n 5% - (TO:C...</td>\n",
              "      <td>HPC_HTC (05-11-2019 / 04-11-2020)</td>\n",
              "    </tr>\n",
              "    <tr>\n",
              "      <th>5</th>\n",
              "      <td>Guberman</td>\n",
              "      <td>Daniel Alberto</td>\n",
              "      <td>32</td>\n",
              "      <td>M</td>\n",
              "      <td>(01/10/2018 - 30/09/2020) Dipendente Borse pos...</td>\n",
              "      <td>100% - (PI:CSN2) CTA (Ricercatore)</td>\n",
              "      <td>FOE (01-10-2018 / 30-09-2020)</td>\n",
              "    </tr>\n",
              "    <tr>\n",
              "      <th>6</th>\n",
              "      <td>La Rana</td>\n",
              "      <td>Adele</td>\n",
              "      <td>42</td>\n",
              "      <td>F</td>\n",
              "      <td>(31/10/2019 - 30/10/2020) Associato Scientific...</td>\n",
              "      <td>30% - (ROMA1:CSN2) VIRGO (Ricercatore)</td>\n",
              "      <td></td>\n",
              "    </tr>\n",
              "    <tr>\n",
              "      <th>7</th>\n",
              "      <td>Marini</td>\n",
              "      <td>Laura</td>\n",
              "      <td>31</td>\n",
              "      <td>F</td>\n",
              "      <td>(18/05/2020 - 17/05/2021) Associato Scientific...</td>\n",
              "      <td>70% - (LNGS:CSN2) CUORE (Ricercatore)\\n 30% - ...</td>\n",
              "      <td></td>\n",
              "    </tr>\n",
              "    <tr>\n",
              "      <th>8</th>\n",
              "      <td>Mese</td>\n",
              "      <td>Marco</td>\n",
              "      <td>29</td>\n",
              "      <td>M</td>\n",
              "      <td>(11/05/2020 - 10/11/2020) Dipendente Borse neo...</td>\n",
              "      <td>20% - (NA:CSN2) HERD_DMP (Ricercatore)\\n 80% -...</td>\n",
              "      <td>FOE (11-05-2020 / 10-11-2020)</td>\n",
              "    </tr>\n",
              "    <tr>\n",
              "      <th>9</th>\n",
              "      <td>Ripoli</td>\n",
              "      <td>Cristina</td>\n",
              "      <td>33</td>\n",
              "      <td>F</td>\n",
              "      <td>(24/07/2020 - 07/05/2021) Associato Tecnologic...</td>\n",
              "      <td>50% - (SA:CSN2) DARKSIDE (Ricercatore)\\n 50% -...</td>\n",
              "      <td></td>\n",
              "    </tr>\n",
              "    <tr>\n",
              "      <th>10</th>\n",
              "      <td>Severino</td>\n",
              "      <td>Claudio</td>\n",
              "      <td>36</td>\n",
              "      <td>M</td>\n",
              "      <td>(03/06/2019 - 02/06/2021) Dipendente Neolaurea...</td>\n",
              "      <td>20% - (NA:CSN2) QUAX (Tecnologo)\\n 80% - (NA:C...</td>\n",
              "      <td>THOR (03-06-2019 / 02-06-2021)</td>\n",
              "    </tr>\n",
              "    <tr>\n",
              "      <th>11</th>\n",
              "      <td>Tortorici</td>\n",
              "      <td>Francesco</td>\n",
              "      <td>42</td>\n",
              "      <td>M</td>\n",
              "      <td>(09/11/2018 - 04/11/2020) Associato Scientific...</td>\n",
              "      <td>100% - (CT:CSN2) ICARUS (Ricercatore)</td>\n",
              "      <td></td>\n",
              "    </tr>\n",
              "    <tr>\n",
              "      <th>12</th>\n",
              "      <td>Vallero</td>\n",
              "      <td>Sara</td>\n",
              "      <td>39</td>\n",
              "      <td>F</td>\n",
              "      <td>(01/05/2020 - 31/10/2020) Associato Scientific...</td>\n",
              "      <td>20% - (TO:CSN2) VIRGO (Tecnologo)\\n 70% - (TO:...</td>\n",
              "      <td></td>\n",
              "    </tr>\n",
              "  </tbody>\n",
              "</table>\n",
              "</div>"
            ],
            "text/plain": [
              "       Cognome  ...             Finanziamenti Contratto\n",
              "0   Alexandrov  ...                                    \n",
              "1        Asada  ...       FOE (01-06-2019 / 31-05-2021)\n",
              "2      Carniti  ...                                    \n",
              "3      Ferella  ...  GERDA CF (02-03-2020 / 01-03-2021)\n",
              "4       Fronzé  ...   HPC_HTC (05-11-2019 / 04-11-2020)\n",
              "5     Guberman  ...       FOE (01-10-2018 / 30-09-2020)\n",
              "6      La Rana  ...                                    \n",
              "7       Marini  ...                                    \n",
              "8         Mese  ...       FOE (11-05-2020 / 10-11-2020)\n",
              "9       Ripoli  ...                                    \n",
              "10    Severino  ...      THOR (03-06-2019 / 02-06-2021)\n",
              "11   Tortorici  ...                                    \n",
              "12     Vallero  ...                                    \n",
              "\n",
              "[13 rows x 7 columns]"
            ]
          },
          "metadata": {
            "tags": []
          },
          "execution_count": 68
        }
      ]
    }
  ]
}