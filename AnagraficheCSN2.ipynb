{
  "nbformat": 4,
  "nbformat_minor": 0,
  "metadata": {
    "colab": {
      "name": "AnagraficheCSN2.ipynb",
      "provenance": [],
      "authorship_tag": "ABX9TyN2ilfd2hIFaGuZIhu7TchC",
      "include_colab_link": true
    },
    "kernelspec": {
      "name": "python3",
      "display_name": "Python 3"
    }
  },
  "cells": [
    {
      "cell_type": "markdown",
      "metadata": {
        "id": "view-in-github",
        "colab_type": "text"
      },
      "source": [
        "<a href=\"https://colab.research.google.com/github/gmazzitelli/GSN2/blob/master/AnagraficheCSN2.ipynb\" target=\"_parent\"><img src=\"https://colab.research.google.com/assets/colab-badge.svg\" alt=\"Open In Colab\"/></a>"
      ]
    },
    {
      "cell_type": "markdown",
      "metadata": {
        "id": "ScpfBN8qMgWS",
        "colab_type": "text"
      },
      "source": [
        "Analisi Anagrafiche CSN2"
      ]
    },
    {
      "cell_type": "code",
      "metadata": {
        "id": "Qyak-tYvMe3x",
        "colab_type": "code",
        "colab": {}
      },
      "source": [
        "# \n",
        "# data source https://reportgodiva.dsi.infn.it/ per anagrafiche\n",
        "# data source https://dbprogetti.dsi.infn.it/dbprogetti/listaProgettiFE per progetti su fondi esterni\n",
        "# https://drive.google.com/file/d/1pTju26izsWDAd90vn80qEyNbfnC5Q9Oh/\n",
        "# \n",
        "def load_from_gspreadsheet(key, sheet_name):\n",
        "    # google spredsheet TO url \n",
        "    # url = \"https://docs.google.com/spreadsheet/ccc?key=\"+key+\"&output=csv&sheet={Sheet2}\"\n",
        "    url = 'https://docs.google.com/spreadsheets/d/{key}/gviz/tq?tqx=out:csv&sheet={sheet_name}&headers=1'.format(\n",
        "        key=key, sheet_name=sheet_name.replace(' ', '%20'))\n",
        "    print(url)\n",
        "    return url\n",
        "def sp2pd(key, sheet_name, verbose=False):\n",
        "    # spreadsheet TO Panda\n",
        "    import pandas as pd\n",
        "    df = pd.read_csv(load_from_gspreadsheet(key, sheet_name))\n",
        "    # df = df[df.File_Number.isnull() == False]\n",
        "    df.fillna('', inplace=True)\n",
        "    if verbose: print ('Variables: ', df.columns.values)\n",
        "    return df\n",
        "import matplotlib.pyplot as plt\n",
        "import pandas as pd\n",
        "import numpy as np\n",
        "plt.style.use('fast')\n",
        "plt.rc('font', size = 14, family ='Sans-Serif')"
      ],
      "execution_count": 2,
      "outputs": []
    },
    {
      "cell_type": "code",
      "metadata": {
        "id": "v7j7cZvfYtvG",
        "colab_type": "code",
        "colab": {
          "base_uri": "https://localhost:8080/",
          "height": 51
        },
        "outputId": "baeed37c-8d3b-4b52-9bf2-8bf3cd1d9f04"
      },
      "source": [
        "INFN = sp2pd(key='1pTju26izsWDAd90vn80qEyNbfnC5Q9Oh', sheet_name='INFN')\n",
        "CSN2 = sp2pd(key='1pTju26izsWDAd90vn80qEyNbfnC5Q9Oh', sheet_name='CSN2')"
      ],
      "execution_count": 3,
      "outputs": [
        {
          "output_type": "stream",
          "text": [
            "https://docs.google.com/spreadsheets/d/1pTju26izsWDAd90vn80qEyNbfnC5Q9Oh/gviz/tq?tqx=out:csv&sheet=INFN&headers=1\n",
            "https://docs.google.com/spreadsheets/d/1pTju26izsWDAd90vn80qEyNbfnC5Q9Oh/gviz/tq?tqx=out:csv&sheet=CSN2&headers=1\n"
          ],
          "name": "stdout"
        }
      ]
    },
    {
      "cell_type": "code",
      "metadata": {
        "id": "MVeDdKEOcZCJ",
        "colab_type": "code",
        "colab": {
          "base_uri": "https://localhost:8080/",
          "height": 419
        },
        "outputId": "93b55f09-3c35-42ad-ef92-14248bdb2481"
      },
      "source": [
        "CSN2"
      ],
      "execution_count": 4,
      "outputs": [
        {
          "output_type": "execute_result",
          "data": {
            "text/html": [
              "<div>\n",
              "<style scoped>\n",
              "    .dataframe tbody tr th:only-of-type {\n",
              "        vertical-align: middle;\n",
              "    }\n",
              "\n",
              "    .dataframe tbody tr th {\n",
              "        vertical-align: top;\n",
              "    }\n",
              "\n",
              "    .dataframe thead th {\n",
              "        text-align: right;\n",
              "    }\n",
              "</style>\n",
              "<table border=\"1\" class=\"dataframe\">\n",
              "  <thead>\n",
              "    <tr style=\"text-align: right;\">\n",
              "      <th></th>\n",
              "      <th>Cognome</th>\n",
              "      <th>Nome</th>\n",
              "      <th>Eta'</th>\n",
              "      <th>Genere</th>\n",
              "      <th>Contratti</th>\n",
              "      <th>Esperimenti</th>\n",
              "      <th>Finanziamenti Contratto</th>\n",
              "    </tr>\n",
              "  </thead>\n",
              "  <tbody>\n",
              "    <tr>\n",
              "      <th>0</th>\n",
              "      <td>Acerbi</td>\n",
              "      <td>Fabio</td>\n",
              "      <td>36</td>\n",
              "      <td>M</td>\n",
              "      <td>(01/01/2020 - 31/12/2020) Associato Scientific...</td>\n",
              "      <td>30% - (TIFP:CSN2) DARKSIDE (Ricercatore)</td>\n",
              "      <td></td>\n",
              "    </tr>\n",
              "    <tr>\n",
              "      <th>1</th>\n",
              "      <td>Acernese</td>\n",
              "      <td>Fausto</td>\n",
              "      <td>45</td>\n",
              "      <td>M</td>\n",
              "      <td>(01/01/2020 - 31/12/2020) Associato Incarico d...</td>\n",
              "      <td>20% - (NA:CSN2) ET_ITALIA (Ricercatore)\\n 80% ...</td>\n",
              "      <td></td>\n",
              "    </tr>\n",
              "    <tr>\n",
              "      <th>2</th>\n",
              "      <td>Addazi</td>\n",
              "      <td>Andrea</td>\n",
              "      <td>31</td>\n",
              "      <td>M</td>\n",
              "      <td>(15/01/2020 - 31/12/2020) Associato Scientific...</td>\n",
              "      <td>40% - (ROMA2:CSN2) DAMA (Ricercatore)</td>\n",
              "      <td></td>\n",
              "    </tr>\n",
              "    <tr>\n",
              "      <th>3</th>\n",
              "      <td>Addesso</td>\n",
              "      <td>Paolo</td>\n",
              "      <td>45</td>\n",
              "      <td>M</td>\n",
              "      <td>(01/01/2020 - 31/12/2020) Associato Tecnologic...</td>\n",
              "      <td>20% - (SA:CSN2) VIRGO (Ricercatore)</td>\n",
              "      <td></td>\n",
              "    </tr>\n",
              "    <tr>\n",
              "      <th>4</th>\n",
              "      <td>Adriani</td>\n",
              "      <td>Oscar</td>\n",
              "      <td>55</td>\n",
              "      <td>M</td>\n",
              "      <td>(01/01/2020 - 31/12/2020) Associato Incarico d...</td>\n",
              "      <td>30% - (FI:CSN1) LHCF (Ricercatore)\\n 70% - (FI...</td>\n",
              "      <td></td>\n",
              "    </tr>\n",
              "    <tr>\n",
              "      <th>...</th>\n",
              "      <td>...</td>\n",
              "      <td>...</td>\n",
              "      <td>...</td>\n",
              "      <td>...</td>\n",
              "      <td>...</td>\n",
              "      <td>...</td>\n",
              "      <td>...</td>\n",
              "    </tr>\n",
              "    <tr>\n",
              "      <th>1587</th>\n",
              "      <td>Zendri</td>\n",
              "      <td>Jean Pierre</td>\n",
              "      <td>57</td>\n",
              "      <td>M</td>\n",
              "      <td></td>\n",
              "      <td>40% - (PD:CSN2) ET_ITALIA (Ricercatore)\\n 60% ...</td>\n",
              "      <td></td>\n",
              "    </tr>\n",
              "    <tr>\n",
              "      <th>1588</th>\n",
              "      <td>Zichichi</td>\n",
              "      <td>Antonino</td>\n",
              "      <td>90</td>\n",
              "      <td>M</td>\n",
              "      <td>(01/01/2020 - 31/12/2020) Associato Incarico d...</td>\n",
              "      <td>0% - (BO:CSN2) AMS2 (Ricercatore)\\n 0% - (BO:C...</td>\n",
              "      <td></td>\n",
              "    </tr>\n",
              "    <tr>\n",
              "      <th>1589</th>\n",
              "      <td>Zuccarello</td>\n",
              "      <td>Francesca</td>\n",
              "      <td>66</td>\n",
              "      <td>F</td>\n",
              "      <td>(01/01/2020 - 31/12/2020) Associato Scientific...</td>\n",
              "      <td>20% - (CT:CSN2) AUGER (Ricercatore)\\n 30% - (C...</td>\n",
              "      <td></td>\n",
              "    </tr>\n",
              "    <tr>\n",
              "      <th>1590</th>\n",
              "      <td>Zucchelli</td>\n",
              "      <td>Stefano</td>\n",
              "      <td>66</td>\n",
              "      <td>M</td>\n",
              "      <td>(01/01/2020 - 31/12/2020) Associato Incarico d...</td>\n",
              "      <td>60% - (BO:CSN1) LHC-B (Ricercatore)\\n 30% - (B...</td>\n",
              "      <td></td>\n",
              "    </tr>\n",
              "    <tr>\n",
              "      <th>1591</th>\n",
              "      <td>Zuccon</td>\n",
              "      <td>Paolo</td>\n",
              "      <td>47</td>\n",
              "      <td>M</td>\n",
              "      <td>(01/01/2020 - 31/12/2020) Associato Incarico d...</td>\n",
              "      <td>70% - (TIFP:CSN2) AMS2 (Ricercatore)\\n 20% - (...</td>\n",
              "      <td></td>\n",
              "    </tr>\n",
              "  </tbody>\n",
              "</table>\n",
              "<p>1592 rows × 7 columns</p>\n",
              "</div>"
            ],
            "text/plain": [
              "         Cognome  ... Finanziamenti Contratto\n",
              "0         Acerbi  ...                        \n",
              "1       Acernese  ...                        \n",
              "2         Addazi  ...                        \n",
              "3        Addesso  ...                        \n",
              "4        Adriani  ...                        \n",
              "...          ...  ...                     ...\n",
              "1587      Zendri  ...                        \n",
              "1588    Zichichi  ...                        \n",
              "1589  Zuccarello  ...                        \n",
              "1590   Zucchelli  ...                        \n",
              "1591      Zuccon  ...                        \n",
              "\n",
              "[1592 rows x 7 columns]"
            ]
          },
          "metadata": {
            "tags": []
          },
          "execution_count": 4
        }
      ]
    },
    {
      "cell_type": "code",
      "metadata": {
        "id": "oXSE2hpshYb1",
        "colab_type": "code",
        "colab": {
          "base_uri": "https://localhost:8080/",
          "height": 34
        },
        "outputId": "17c981c8-0aaf-49bb-e351-50851c3fbe28"
      },
      "source": [
        "dipendenti = pd.DataFrame(columns = CSN2.columns) \n",
        "associati  = pd.DataFrame(columns = CSN2.columns) \n",
        "dottorandi = pd.DataFrame(columns = CSN2.columns) \n",
        "borsisti   = pd.DataFrame(columns = CSN2.columns) \n",
        "assegnisti = pd.DataFrame(columns = CSN2.columns) \n",
        "tecnici    = pd.DataFrame(columns = CSN2.columns) \n",
        "for i, contratto in enumerate(CSN2.Contratti):\n",
        "  if contratto == '':\n",
        "    dipendenti = dipendenti.append(CSN2.iloc[i], ignore_index=True)\n",
        "  elif contratto.find('Associato')>=0:\n",
        "    associati = associati.append(CSN2.iloc[i], ignore_index=True)\n",
        "  if contratto.find('Dottorando')>=0:\n",
        "    dottorandi = dottorandi.append(CSN2.iloc[i], ignore_index=True)\n",
        "  if contratto.find('Borsista')>=0:\n",
        "    borsisti = borsisti.append(CSN2.iloc[i], ignore_index=True)\n",
        "  if contratto.find('Assegnista')>=0:\n",
        "    assegnisti = assegnisti.append(CSN2.iloc[i], ignore_index=True)\n",
        "  if contratto.find('Tecnico')>=0:\n",
        "    tecnici = tecnici.append(CSN2.iloc[i], ignore_index=True)\n",
        "\n",
        "print (len(CSN2),len(dipendenti), len(associati), len(dottorandi), len(borsisti), len(assegnisti), len(tecnici))"
      ],
      "execution_count": 6,
      "outputs": [
        {
          "output_type": "stream",
          "text": [
            "1592 624 877 127 13 59 44\n"
          ],
          "name": "stdout"
        }
      ]
    },
    {
      "cell_type": "code",
      "metadata": {
        "id": "RIjX4YCStHhg",
        "colab_type": "code",
        "colab": {
          "base_uri": "https://localhost:8080/",
          "height": 862
        },
        "outputId": "1372cd02-ecf5-4036-c44e-1b513124612f"
      },
      "source": [
        "plt.figure(figsize = (10,5))\n",
        "plt.hist(CSN2[\"Eta'\"], label='CSN2')\n",
        "plt.hist(dipendenti[\"Eta'\"], label='Dipendenti')\n",
        "plt.hist(dottorandi[\"Eta'\"], label='Dottorandi')\n",
        "plt.hist(assegnisti[\"Eta'\"], label='Assegnisti')\n",
        "plt.hist(borsisti[\"Eta'\"], label='Borsisti')\n",
        "#plt.yscale('log')\n",
        "plt.legend()\n",
        "plt.show()\n",
        "CSN2.Genere.value_counts().plot.pie(autopct='%1.1f%%')\n",
        "plt.show()\n",
        "plt.figure(figsize = (10,5))\n",
        "plt.hist(CSN2.Genere, label='CSN2')\n",
        "plt.hist(dipendenti.Genere, label='Dipendenti')\n",
        "plt.hist(dottorandi.Genere, label='Dottorandi')\n",
        "plt.hist(assegnisti.Genere, label='Assegnisti')\n",
        "plt.hist(borsisti.Genere, label='Borsisti')\n",
        "#plt.yscale('log')\n",
        "plt.legend()\n",
        "plt.show()"
      ],
      "execution_count": 44,
      "outputs": [
        {
          "output_type": "display_data",
          "data": {
            "image/png": "[encoded data removed]",
            "text/plain": [
              "<Figure size 720x360 with 1 Axes>"
            ]
          },
          "metadata": {
            "tags": [],
            "needs_background": "light"
          }
        },
        {
          "output_type": "display_data",
          "data": {
            "image/png": "[encoded data removed]",
            "text/plain": [
              "<Figure size 432x288 with 1 Axes>"
            ]
          },
          "metadata": {
            "tags": []
          }
        },
        {
          "output_type": "display_data",
          "data": {
            "image/png": "[encoded data removed]",
            "text/plain": [
              "<Figure size 720x360 with 1 Axes>"
            ]
          },
          "metadata": {
            "tags": [],
            "needs_background": "light"
          }
        }
      ]
    },
    {
      "cell_type": "code",
      "metadata": {
        "id": "L_JF0Opnay4e",
        "colab_type": "code",
        "colab": {
          "base_uri": "https://localhost:8080/",
          "height": 1000
        },
        "outputId": "83f0c781-135b-44f4-e394-4553ac048e32"
      },
      "source": [
        "cerca='CYGNO'\n",
        "for i, esperimento in enumerate(CSN2.Esperimenti):\n",
        "  if esperimento.find(cerca)>=0:\n",
        "    print(CSN2.Cognome.iloc[i],'\\n', CSN2.Esperimenti.iloc[i])"
      ],
      "execution_count": 52,
      "outputs": [
        {
          "output_type": "stream",
          "text": [
            "Baracchini \n",
            " 20% - (LNGS:CSN2) CYGNO (Ricercatore)\n",
            " 0% - (LNGS:CSN2) DARKSIDE (Ricercatore)\n",
            " 80% - (LNGS:CSN2) INITIUM (Ricercatore)\n",
            " 0% - (ROMA1:CSN2) INITIUM (Ricercatore)\n",
            "Bedogni \n",
            " 5% - (LNF:CSN2) CYGNO (Ricercatore)\n",
            " 5% - (LNF:CSN3) SICURA (Ricercatore)\n",
            " 50% - (LNF:CSN5) ANET (Ricercatore)\n",
            " 40% - (LNF:CSN5) ENTER_BNCT (Ricercatore)\n",
            "Benussi \n",
            " 10% - (LNF:CSN1) CMS (Ricercatore)\n",
            " 70% - (LNF:CSN1) FASE2_CMS (Ricercatore)\n",
            " 20% - (LNF:CSN2) CYGNO (Ricercatore)\n",
            "Bianco \n",
            " 80% - (LNF:CSN1) CMS (Ricercatore)\n",
            " 20% - (LNF:CSN2) CYGNO (Ricercatore)\n",
            "Capoccia \n",
            " 30% - (LNF:CSN2) CYGNO (Tecnico)\n",
            " 30% - (LNF:CSN3) KAONNIS (Tecnico)\n",
            "Caponero \n",
            " 60% - (LNF:CSN1) CMS (Ricercatore)\n",
            " 20% - (LNF:CSN1) FASE2_CMS (Ricercatore)\n",
            " 20% - (LNF:CSN2) CYGNO (Ricercatore)\n",
            "Cavoto \n",
            " 0% - (ROMA1:C3M) L2G_C3M (Ricercatore)\n",
            " 30% - (ROMA1:CSN1) MEG (Ricercatore)\n",
            " 30% - (ROMA1:CSN2) CYGNO (Ricercatore)\n",
            " 0% - (ROMA1:CSN2) INITIUM (Ricercatore)\n",
            " 40% - (ROMA1:CSN2) PTOLEMY (Ricercatore)\n",
            "D'Imperio \n",
            " 50% - (ROMA1:CSN2) CYGNO (Ricercatore)\n",
            " 50% - (ROMA1:CSN2) SABRE (Ricercatore)\n",
            "Di Marco \n",
            " 50% - (ROMA1:CSN1) CMS (Ricercatore)\n",
            " 30% - (ROMA1:CSN1) FASE2_CMS (Ricercatore)\n",
            " 10% - (ROMA1:CSN2) CYGNO (Ricercatore)\n",
            " 10% - (ROMA1:CSN2) INITIUM (Ricercatore)\n",
            "Iacoangeli \n",
            " 0% - (ROMA1:C3M) ICD_C3M (Tecnologo)\n",
            " 0% - (ROMA1:C3M) ISP_C3M (Tecnologo)\n",
            " 0% - (ROMA1:C3M) L2G_C3M (Tecnologo)\n",
            " 0% - (ROMA1:C3M) OCRA_C3M (Tecnologo)\n",
            " 30% - (ROMA1:CSN2) CYGNO (Tecnologo)\n",
            " 20% - (ROMA1:CSN5) NEPTUNE (Tecnologo)\n",
            " 50% - (ROMA1:CSN5) SLICE (Tecnologo)\n",
            "Maccarrone \n",
            " 40% - (LNF:CSN2) CYGNO (Ricercatore)\n",
            " 30% - (LNF:CSN2) QUAX (Ricercatore)\n",
            " 30% - (LNF:CSN5) SIMP (Ricercatore)\n",
            "Marafini \n",
            " 20% - (ROMA1:CSN2) CYGNO (Ricercatore)\n",
            " 30% - (ROMA1:CSN3) FOOT (Ricercatore)\n",
            "Mazzitelli \n",
            " 0% - (LNF:C3M) INFN_KIDS_C3M (Ricercatore)\n",
            " 60% - (LNF:CSN2) CYGNO (Ricercatore)\n",
            " 40% - (LNF:CSN2) INITIUM (Ricercatore)\n",
            "Mengucci \n",
            " 30% - (LNF:CSN1) PMU2E (Tecnico)\n",
            " 10% - (LNF:CSN2) CYGNO (Tecnico)\n",
            " 30% - (LNF:CSN2) JUNO (Tecnico)\n",
            " 30% - (LNF:CSN3) KAONNIS (Tecnico)\n",
            "Messina \n",
            " 0% - (ROMA1:CSN1) ATLAS (Ricercatore)\n",
            " 30% - (ROMA1:CSN2) CYGNO (Ricercatore)\n",
            " 60% - (ROMA1:CSN2) DARKSIDE (Ricercatore)\n",
            " 10% - (ROMA1:CSN5) NEPTUNE (Ricercatore)\n",
            "Paoletti \n",
            " 30% - (LNF:CSN1) BESIII (Tecnico)\n",
            " 50% - (LNF:CSN2) CYGNO (Tecnico)\n",
            " 20% - (LNF:CSN3) ALICE (Tecnico)\n",
            "Passamonti \n",
            " 50% - (LNF:CSN1) CMS (Tecnico)\n",
            " 20% - (LNF:CSN2) CYGNO (Tecnico)\n",
            " 30% - (LNF:CSN3) ALICE (Tecnico)\n",
            "Petrucci \n",
            " 40% - (ROMA3:CSN1) ATLAS (Ricercatore)\n",
            " 30% - (ROMA3:CSN2) CYGNO (Ricercatore)\n",
            " 30% - (ROMA3:CSN2) JUNO (Ricercatore)\n",
            "Piccolo \n",
            " 40% - (LNF:CSN1) CMS (Ricercatore)\n",
            " 40% - (LNF:CSN1) FASE2_CMS (Ricercatore)\n",
            " 20% - (LNF:CSN2) CYGNO (Ricercatore)\n",
            "Pierluigi \n",
            " 50% - (LNF:CSN1) CMS (Tecnico)\n",
            " 20% - (LNF:CSN2) CYGNO (Tecnico)\n",
            " 30% - (LNF:CSN3) ALICE (Tecnico)\n",
            "Pinci \n",
            " 50% - (ROMA1:CSN1) LHC-B (Ricercatore)\n",
            " 40% - (ROMA1:CSN2) CYGNO (Ricercatore)\n",
            " 10% - (ROMA1:CSN2) INITIUM (Ricercatore)\n",
            "Renga \n",
            " 60% - (ROMA1:CSN1) MEG (Ricercatore)\n",
            " 30% - (ROMA1:CSN2) CYGNO (Ricercatore)\n",
            " 10% - (ROMA1:CSN2) INITIUM (Ricercatore)\n",
            "Rosatelli \n",
            " 70% - (LNF:CSN1) ATLAS (Tecnico)\n",
            " 30% - (LNF:CSN2) CYGNO (Tecnico)\n",
            "Russo \n",
            " 50% - (LNF:CSN1) CMS (Tecnico)\n",
            " 20% - (LNF:CSN2) CYGNO (Tecnico)\n",
            " 30% - (LNF:CSN3) ALICE (Tecnico)\n",
            "Saviano \n",
            " 80% - (LNF:CSN1) FASE2_CMS (Ricercatore)\n",
            " 20% - (LNF:CSN2) CYGNO (Ricercatore)\n",
            "Tesauro \n",
            " 0% - (LNF:CSN2) CYGNO (Tecnico)\n",
            " 100% - (LNF:CSN2) INITIUM (Tecnico)\n",
            "Tomassini \n",
            " 50% - (LNF:CSN1) FASE2_ATLAS (Tecnologo)\n",
            " 10% - (LNF:CSN2) CYGNO (Tecnologo)\n",
            " 10% - (LNF:CSN2) INITIUM (Tecnologo)\n",
            " 10% - (LNF:CSN3) FOOT (Tecnologo)\n",
            " 20% - (LNF:CSN3) JLAB12 (Tecnologo)\n"
          ],
          "name": "stdout"
        }
      ]
    },
    {
      "cell_type": "code",
      "metadata": {
        "id": "SDcKVDdLpXxs",
        "colab_type": "code",
        "colab": {
          "base_uri": "https://localhost:8080/",
          "height": 238
        },
        "outputId": "13863bb5-6306-482e-b43f-95483243e038"
      },
      "source": [
        "esperimenti = np.array([])\n",
        "for i, esperimento in enumerate(borsisti.Esperimenti):\n",
        "  esperimenti = np.concatenate((esperimenti, esperimento.split(\"\\n\")))"
      ],
      "execution_count": 36,
      "outputs": [
        {
          "output_type": "stream",
          "text": [
            "['100% - (NA:CSN2) NEWS (Ricercatore)']\n",
            "['100% - (LNGS:CSN2) NEWS (Ricercatore)']\n",
            "['20% - (MIB:CSN1) FASE2_CMS (Tecnologo)', ' 60% - (MIB:CSN1) LHC-B (Tecnologo)', ' 20% - (MIB:CSN2) CUPID (Tecnologo)']\n",
            "['100% - (LNGS:CSN2) GERDA (Ricercatore)']\n",
            "['95% - (TO:CSN2) VIRGO (Tecnologo)', ' 5% - (TO:CSN3) ALICE (Tecnologo)']\n",
            "['100% - (PI:CSN2) CTA (Ricercatore)']\n",
            "['30% - (ROMA1:CSN2) VIRGO (Ricercatore)']\n",
            "['70% - (LNGS:CSN2) CUORE (Ricercatore)', ' 30% - (LNGS:CSN2) CUPID (Ricercatore)']\n",
            "['20% - (NA:CSN2) HERD_DMP (Ricercatore)', ' 80% - (NA:CSN2) LIMADOU_CSN2 (Ricercatore)']\n",
            "['50% - (SA:CSN2) DARKSIDE (Ricercatore)', ' 50% - (SA:CSN3) ALICE (Ricercatore)']\n",
            "['20% - (NA:CSN2) QUAX (Tecnologo)', ' 80% - (NA:CSN6) THOR (Tecnologo)']\n",
            "['100% - (CT:CSN2) ICARUS (Ricercatore)']\n",
            "['20% - (TO:CSN2) VIRGO (Tecnologo)', ' 70% - (TO:CSN3) ALICE (Tecnologo)', ' 10% - (TO:CSN5) ML_INFN (Tecnologo)']\n"
          ],
          "name": "stdout"
        }
      ]
    },
    {
      "cell_type": "code",
      "metadata": {
        "id": "HLkqbmMzs1Vx",
        "colab_type": "code",
        "colab": {
          "base_uri": "https://localhost:8080/",
          "height": 391
        },
        "outputId": "23e1b58f-2a09-4e83-ab2e-426d1dc34b4f"
      },
      "source": [
        "esperimenti"
      ],
      "execution_count": 37,
      "outputs": [
        {
          "output_type": "execute_result",
          "data": {
            "text/plain": [
              "array(['100% - (NA:CSN2) NEWS (Ricercatore)',\n",
              "       '100% - (LNGS:CSN2) NEWS (Ricercatore)',\n",
              "       '20% - (MIB:CSN1) FASE2_CMS (Tecnologo)',\n",
              "       ' 60% - (MIB:CSN1) LHC-B (Tecnologo)',\n",
              "       ' 20% - (MIB:CSN2) CUPID (Tecnologo)',\n",
              "       '100% - (LNGS:CSN2) GERDA (Ricercatore)',\n",
              "       '95% - (TO:CSN2) VIRGO (Tecnologo)',\n",
              "       ' 5% - (TO:CSN3) ALICE (Tecnologo)',\n",
              "       '100% - (PI:CSN2) CTA (Ricercatore)',\n",
              "       '30% - (ROMA1:CSN2) VIRGO (Ricercatore)',\n",
              "       '70% - (LNGS:CSN2) CUORE (Ricercatore)',\n",
              "       ' 30% - (LNGS:CSN2) CUPID (Ricercatore)',\n",
              "       '20% - (NA:CSN2) HERD_DMP (Ricercatore)',\n",
              "       ' 80% - (NA:CSN2) LIMADOU_CSN2 (Ricercatore)',\n",
              "       '50% - (SA:CSN2) DARKSIDE (Ricercatore)',\n",
              "       ' 50% - (SA:CSN3) ALICE (Ricercatore)',\n",
              "       '20% - (NA:CSN2) QUAX (Tecnologo)',\n",
              "       ' 80% - (NA:CSN6) THOR (Tecnologo)',\n",
              "       '100% - (CT:CSN2) ICARUS (Ricercatore)',\n",
              "       '20% - (TO:CSN2) VIRGO (Tecnologo)',\n",
              "       ' 70% - (TO:CSN3) ALICE (Tecnologo)',\n",
              "       ' 10% - (TO:CSN5) ML_INFN (Tecnologo)'], dtype='<U43')"
            ]
          },
          "metadata": {
            "tags": []
          },
          "execution_count": 37
        }
      ]
    }
  ]
}