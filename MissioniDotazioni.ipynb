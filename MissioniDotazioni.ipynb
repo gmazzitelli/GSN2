{
  "nbformat": 4,
  "nbformat_minor": 0,
  "metadata": {
    "colab": {
      "name": "MissioniDotazioni.ipynb",
      "provenance": [],
      "include_colab_link": true
    },
    "kernelspec": {
      "name": "python3",
      "display_name": "Python 3"
    }
  },
  "cells": [
    {
      "cell_type": "markdown",
      "metadata": {
        "id": "view-in-github",
        "colab_type": "text"
      },
      "source": [
        "<a href=\"https://colab.research.google.com/github/gmazzitelli/GSN2/blob/master/MissioniDotazioni.ipynb\" target=\"_parent\"><img src=\"https://colab.research.google.com/assets/colab-badge.svg\" alt=\"Open In Colab\"/></a>"
      ]
    },
    {
      "cell_type": "markdown",
      "metadata": {
        "id": "vFBCR_qkUEMa"
      },
      "source": [
        "**per poter essere lle il file in questo modo deve essere un google speradsheet**\n",
        "\n",
        "quindi:\n",
        "1. esportare i dati delle missioni come file excell\n",
        "2. copiare ed incollare il file missioni nel tab dell'anno relativo sul google spreedsheet\n",
        "3. selezionare nell'apertura del file il tab opportuno\n",
        "\n",
        "\n"
      ]
    },
    {
      "cell_type": "code",
      "metadata": {
        "id": "TSkyVZhhdm4L"
      },
      "source": [
        "import numpy as np\n",
        "import pandas as pd\n",
        "key = \"1l-nUkzMRyt4gte4nkMcoBBzDZElnOIeBsGA8zIOVP_E\" # foglio missioni\n",
        "key = \"1puUfSofNzvDKDYycQBy0NiKtWcMQSW9iwUDp_GtSXBk\" # consuntivo 2019 - ricordarsi di salvare il file come google spreedsheet prima di copiare la chiave\n",
        "\n",
        "\n",
        "def load_from_gspreadsheet(key, sheet_name):\n",
        "    # google spredsheet TO url \n",
        "    # url = \"https://docs.google.com/spreadsheet/ccc?key=\"+key+\"&output=csv&sheet={Sheet2}\"\n",
        "    url = 'https://docs.google.com/spreadsheets/d/{key}/gviz/tq?tqx=out:csv&sheet={sheet_name}&headers=1'.format(\n",
        "        key=key, sheet_name=sheet_name.replace(' ', '%20'))\n",
        "    print(url)\n",
        "    return url\n",
        "def sp2pd(key, sheet_name, verbose=False):\n",
        "    # spreadsheet TO Panda\n",
        "    import pandas as pd\n",
        "    df = pd.read_csv(load_from_gspreadsheet(key, sheet_name))\n",
        "    # df = df[df.File_Number.isnull() == False]\n",
        "    df.fillna('', inplace=True)\n",
        "    if verbose: print ('Variables: ', df.columns.values)\n",
        "    return df\n",
        "import matplotlib.pyplot as plt\n",
        "import pandas as pd\n",
        "import numpy as np\n",
        "plt.style.use('fast')\n",
        "plt.rc('font', size = 14, family ='Sans-Serif')"
      ],
      "execution_count": 133,
      "outputs": []
    },
    {
      "cell_type": "code",
      "metadata": {
        "id": "o-3FAxh-eKJl",
        "colab": {
          "base_uri": "https://localhost:8080/"
        },
        "outputId": "d6bd473c-89c4-4172-c68a-ffce55f69c40"
      },
      "source": [
        "anno = '2021'\n",
        "df = sp2pd(key='1l-nUkzMRyt4gte4nkMcoBBzDZElnOIeBsGA8zIOVP_E', sheet_name=anno)\n",
        "DOTAZIONE = sp2pd(key='1l-nUkzMRyt4gte4nkMcoBBzDZElnOIeBsGA8zIOVP_E', sheet_name='DOTAZIONE')\n",
        "DOTAZIONE['speso']=np.zeros(len(DOTAZIONE))"
      ],
      "execution_count": 134,
      "outputs": [
        {
          "output_type": "stream",
          "text": [
            "https://docs.google.com/spreadsheets/d/1l-nUkzMRyt4gte4nkMcoBBzDZElnOIeBsGA8zIOVP_E/gviz/tq?tqx=out:csv&sheet=2021&headers=1\n",
            "https://docs.google.com/spreadsheets/d/1l-nUkzMRyt4gte4nkMcoBBzDZElnOIeBsGA8zIOVP_E/gviz/tq?tqx=out:csv&sheet=DOTAZIONE&headers=1\n"
          ],
          "name": "stdout"
        }
      ]
    },
    {
      "cell_type": "code",
      "metadata": {
        "id": "4qZHhrdyD6vu"
      },
      "source": [
        "def get_experiment_info(DB=DOTAZIONE, anno='2019', experiment='DARKSIDE', user=''):\n",
        "  try:\n",
        "    assegnato = DB[(DB.anno.values==int(anno)) & (DB.esperimento==experiment)].importo.values[0]\n",
        "    speso = df[user].Totale.str.replace('.', '').str.replace(',', '.').astype(float).sum()\n",
        "    print ((\"Speso Missioni = {0:.1f}, Assegnato = {1:.1f}, Rimanete = {2:.1f}\").format(speso, assegnato, assegnato-speso))\n",
        "    DB.loc[DB[(DB.anno.values==int(anno)) & (DB.esperimento==experiment)].index, 'speso']=speso\n",
        "  except:\n",
        "    print (\"No experimenti or user found\")\n",
        "  return DB"
      ],
      "execution_count": 135,
      "outputs": []
    },
    {
      "cell_type": "code",
      "metadata": {
        "id": "zg2-hvrNfhBQ",
        "colab": {
          "base_uri": "https://localhost:8080/"
        },
        "outputId": "6f97045f-f1bc-47c1-d617-223ea2afa8d8"
      },
      "source": [
        "assegnazione = df[df.Doc==\"Stanziamento iniziale (assegnazioni)\"].Totale.str.replace('.', '').str.replace(',', '.').astype(float).sum()\n",
        "speso = df[(df.Doc!=\"Stanziamento iniziale (assegnazioni)\")].Totale.str.replace('.', '').str.replace(',', '.').astype(float).sum()\n",
        "print ((\"Assegnato = {0:.1f}, Speso = {1:.1f}, Disponibile = {2:.1f}\").format(assegnazione,speso, assegnazione-speso))\n",
        "SpesoT=0."
      ],
      "execution_count": 136,
      "outputs": [
        {
          "output_type": "stream",
          "text": [
            "Assegnato = 13500.0, Speso = 0.0, Disponibile = 13500.0\n"
          ],
          "name": "stdout"
        }
      ]
    },
    {
      "cell_type": "code",
      "metadata": {
        "colab": {
          "base_uri": "https://localhost:8080/",
          "height": 142
        },
        "id": "DjcDG5spgI0J",
        "outputId": "5311f704-b8a1-4f8a-88a8-fbeb91640a81"
      },
      "source": [
        "DOTAZIONE[(DOTAZIONE.anno.values==int(anno))]"
      ],
      "execution_count": 137,
      "outputs": [
        {
          "output_type": "execute_result",
          "data": {
            "text/html": [
              "<div>\n",
              "<style scoped>\n",
              "    .dataframe tbody tr th:only-of-type {\n",
              "        vertical-align: middle;\n",
              "    }\n",
              "\n",
              "    .dataframe tbody tr th {\n",
              "        vertical-align: top;\n",
              "    }\n",
              "\n",
              "    .dataframe thead th {\n",
              "        text-align: right;\n",
              "    }\n",
              "</style>\n",
              "<table border=\"1\" class=\"dataframe\">\n",
              "  <thead>\n",
              "    <tr style=\"text-align: right;\">\n",
              "      <th></th>\n",
              "      <th>anno</th>\n",
              "      <th>esperimento</th>\n",
              "      <th>importo</th>\n",
              "      <th>totale</th>\n",
              "      <th>speso</th>\n",
              "    </tr>\n",
              "  </thead>\n",
              "  <tbody>\n",
              "    <tr>\n",
              "      <th>8</th>\n",
              "      <td>2021</td>\n",
              "      <td>DTZ</td>\n",
              "      <td>10000</td>\n",
              "      <td></td>\n",
              "      <td>0.0</td>\n",
              "    </tr>\n",
              "    <tr>\n",
              "      <th>9</th>\n",
              "      <td>2021</td>\n",
              "      <td>KM3</td>\n",
              "      <td>2500</td>\n",
              "      <td></td>\n",
              "      <td>0.0</td>\n",
              "    </tr>\n",
              "    <tr>\n",
              "      <th>10</th>\n",
              "      <td>2021</td>\n",
              "      <td>DARKSIDE</td>\n",
              "      <td>1000</td>\n",
              "      <td>13500</td>\n",
              "      <td>0.0</td>\n",
              "    </tr>\n",
              "  </tbody>\n",
              "</table>\n",
              "</div>"
            ],
            "text/plain": [
              "    anno esperimento  importo totale  speso\n",
              "8   2021         DTZ    10000           0.0\n",
              "9   2021         KM3     2500           0.0\n",
              "10  2021    DARKSIDE     1000  13500    0.0"
            ]
          },
          "metadata": {
            "tags": []
          },
          "execution_count": 137
        }
      ]
    },
    {
      "cell_type": "code",
      "metadata": {
        "id": "WZXVKVmTYr-f",
        "colab": {
          "base_uri": "https://localhost:8080/"
        },
        "outputId": "6a0eab6c-0f16-48e1-bd43-d9e09e5b6b99"
      },
      "source": [
        "df = df.drop(df.index[0])\n",
        "df.Intestatario.value_counts()"
      ],
      "execution_count": 138,
      "outputs": [
        {
          "output_type": "execute_result",
          "data": {
            "text/plain": [
              "Series([], Name: Intestatario, dtype: int64)"
            ]
          },
          "metadata": {
            "tags": []
          },
          "execution_count": 138
        }
      ]
    },
    {
      "cell_type": "code",
      "metadata": {
        "id": "TL41Pk2JYanL",
        "colab": {
          "base_uri": "https://localhost:8080/"
        },
        "outputId": "5d7efcf5-fec5-4869-f7ca-2870147135ac"
      },
      "source": [
        "user = (df.Intestatario==\"NAPOLITANO TOMMASO\") ^ (df.Intestatario==\"FRANCESCHI MASSIMO ALBERTO\")\n",
        "DOTAZIONE = get_experiment_info(DB=DOTAZIONE, anno=anno, experiment='DARKSIDE', user=user)\n",
        "users = user\n"
      ],
      "execution_count": 139,
      "outputs": [
        {
          "output_type": "stream",
          "text": [
            "Speso Missioni = 0.0, Assegnato = 1000.0, Rimanete = 1000.0\n"
          ],
          "name": "stdout"
        }
      ]
    },
    {
      "cell_type": "code",
      "metadata": {
        "id": "Y5Swk5hNEPBs",
        "outputId": "a9edb537-cec4-49cf-d94c-762e476e8443",
        "colab": {
          "base_uri": "https://localhost:8080/"
        }
      },
      "source": [
        "user = (df.Intestatario==\"MARTINI AGNESE\") ^ (df.Intestatario==\"Capone Antonio\")\n",
        "DOTAZIONE = get_experiment_info(DB=DOTAZIONE, anno=anno, experiment='KM3', user=user)\n",
        "users = users ^ user"
      ],
      "execution_count": 140,
      "outputs": [
        {
          "output_type": "stream",
          "text": [
            "Speso Missioni = 0.0, Assegnato = 2500.0, Rimanete = 2500.0\n"
          ],
          "name": "stdout"
        }
      ]
    },
    {
      "cell_type": "code",
      "metadata": {
        "id": "qbX8ljECFWqY",
        "outputId": "87b5ad59-6d15-48c3-fdd0-1a9f3a1f014a",
        "colab": {
          "base_uri": "https://localhost:8080/"
        }
      },
      "source": [
        "user = (df.Intestatario==\"RICCI MARCO\") ^ (df.Intestatario==\"DE PAOLIS ALBERTO\")\n",
        "DOTAZIONE = get_experiment_info(DB=DOTAZIONE, anno=anno, experiment='LIMADOU_CSN2', user=user)\n",
        "users = users ^ user\n",
        "# eccezine per Rici 2 esperimenti stessi users\n",
        "user = df.Intestatario==\"\"\n",
        "DOTAZIONE = get_experiment_info(DB=DOTAZIONE, anno=anno, experiment='JemEUSO', user=user)\n"
      ],
      "execution_count": 141,
      "outputs": [
        {
          "output_type": "stream",
          "text": [
            "No experimenti or user found\n",
            "No experimenti or user found\n"
          ],
          "name": "stdout"
        }
      ]
    },
    {
      "cell_type": "code",
      "metadata": {
        "id": "6XPUHFc7FCle",
        "outputId": "ef6e1df0-e4d7-4808-fed4-685253bd11d6",
        "colab": {
          "base_uri": "https://localhost:8080/"
        }
      },
      "source": [
        "user = np.invert(users) # tutti gli altri\n",
        "DOTAZIONE = get_experiment_info(DB=DOTAZIONE, anno=anno, experiment='DTZ', user=user)\n",
        "#df[user]"
      ],
      "execution_count": 142,
      "outputs": [
        {
          "output_type": "stream",
          "text": [
            "Speso Missioni = 0.0, Assegnato = 10000.0, Rimanete = 10000.0\n"
          ],
          "name": "stdout"
        }
      ]
    },
    {
      "cell_type": "code",
      "metadata": {
        "id": "CA2lOeiS8Pz0",
        "outputId": "3028a194-7852-4ec0-b58f-a20164a10a2b",
        "colab": {
          "base_uri": "https://localhost:8080/",
          "height": 142
        }
      },
      "source": [
        "DOTAZIONE[(DOTAZIONE.anno.values==int(anno)) ]"
      ],
      "execution_count": 143,
      "outputs": [
        {
          "output_type": "execute_result",
          "data": {
            "text/html": [
              "<div>\n",
              "<style scoped>\n",
              "    .dataframe tbody tr th:only-of-type {\n",
              "        vertical-align: middle;\n",
              "    }\n",
              "\n",
              "    .dataframe tbody tr th {\n",
              "        vertical-align: top;\n",
              "    }\n",
              "\n",
              "    .dataframe thead th {\n",
              "        text-align: right;\n",
              "    }\n",
              "</style>\n",
              "<table border=\"1\" class=\"dataframe\">\n",
              "  <thead>\n",
              "    <tr style=\"text-align: right;\">\n",
              "      <th></th>\n",
              "      <th>anno</th>\n",
              "      <th>esperimento</th>\n",
              "      <th>importo</th>\n",
              "      <th>totale</th>\n",
              "      <th>speso</th>\n",
              "    </tr>\n",
              "  </thead>\n",
              "  <tbody>\n",
              "    <tr>\n",
              "      <th>8</th>\n",
              "      <td>2021</td>\n",
              "      <td>DTZ</td>\n",
              "      <td>10000</td>\n",
              "      <td></td>\n",
              "      <td>0.0</td>\n",
              "    </tr>\n",
              "    <tr>\n",
              "      <th>9</th>\n",
              "      <td>2021</td>\n",
              "      <td>KM3</td>\n",
              "      <td>2500</td>\n",
              "      <td></td>\n",
              "      <td>0.0</td>\n",
              "    </tr>\n",
              "    <tr>\n",
              "      <th>10</th>\n",
              "      <td>2021</td>\n",
              "      <td>DARKSIDE</td>\n",
              "      <td>1000</td>\n",
              "      <td>13500</td>\n",
              "      <td>0.0</td>\n",
              "    </tr>\n",
              "  </tbody>\n",
              "</table>\n",
              "</div>"
            ],
            "text/plain": [
              "    anno esperimento  importo totale  speso\n",
              "8   2021         DTZ    10000           0.0\n",
              "9   2021         KM3     2500           0.0\n",
              "10  2021    DARKSIDE     1000  13500    0.0"
            ]
          },
          "metadata": {
            "tags": []
          },
          "execution_count": 143
        }
      ]
    },
    {
      "cell_type": "code",
      "metadata": {
        "id": "LwJngKLWMJ3N",
        "outputId": "a4b11b0c-87b4-474b-ba43-ba16ffa04753",
        "colab": {
          "base_uri": "https://localhost:8080/"
        }
      },
      "source": [
        "assegnazione = DOTAZIONE[(DOTAZIONE.anno.values==int(anno)) ].importo.sum()\n",
        "speso = DOTAZIONE[(DOTAZIONE.anno.values==int(anno)) ].speso.sum()\n",
        "print ((\"Assegnato = {0:.1f}, Speso = {1:.1f}, Disponibile = {2:.1f}\").format(assegnazione,speso, assegnazione-speso))"
      ],
      "execution_count": 144,
      "outputs": [
        {
          "output_type": "stream",
          "text": [
            "Assegnato = 13500.0, Speso = 0.0, Disponibile = 13500.0\n"
          ],
          "name": "stdout"
        }
      ]
    },
    {
      "cell_type": "code",
      "metadata": {
        "id": "M_0tlYFsN2t8"
      },
      "source": [
        ""
      ],
      "execution_count": 144,
      "outputs": []
    }
  ]
}