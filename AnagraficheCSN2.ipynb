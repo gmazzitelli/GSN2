{
  "nbformat": 4,
  "nbformat_minor": 0,
  "metadata": {
    "colab": {
      "name": "AnagraficheCSN2.ipynb",
      "provenance": [],
      "collapsed_sections": [],
      "authorship_tag": "ABX9TyPfCs2ZxeRTZFjyD6IxDzue",
      "include_colab_link": true
    },
    "kernelspec": {
      "name": "python3",
      "display_name": "Python 3"
    }
  },
  "cells": [
    {
      "cell_type": "markdown",
      "metadata": {
        "id": "view-in-github",
        "colab_type": "text"
      },
      "source": [
        "<a href=\"https://colab.research.google.com/github/gmazzitelli/GSN2/blob/master/AnagraficheCSN2.ipynb\" target=\"_parent\"><img src=\"https://colab.research.google.com/assets/colab-badge.svg\" alt=\"Open In Colab\"/></a>"
      ]
    },
    {
      "cell_type": "markdown",
      "metadata": {
        "id": "ScpfBN8qMgWS"
      },
      "source": [
        "Analisi Anagrafiche CSN2"
      ]
    },
    {
      "cell_type": "code",
      "metadata": {
        "id": "Qyak-tYvMe3x"
      },
      "source": [
        "# \n",
        "# data source https://reportgodiva.dsi.infn.it/ per anagrafiche\n",
        "# data source https://dbprogetti.dsi.infn.it/dbprogetti/listaProgettiFE per progetti su fondi esterni\n",
        "# https://drive.google.com/file/d/1pTju26izsWDAd90vn80qEyNbfnC5Q9Oh/\n",
        "# \n",
        "def load_from_gspreadsheet(key, sheet_name):\n",
        "    # google spredsheet TO url \n",
        "    # url = \"https://docs.google.com/spreadsheet/ccc?key=\"+key+\"&output=csv&sheet={Sheet2}\"\n",
        "    url = 'https://docs.google.com/spreadsheets/d/{key}/gviz/tq?tqx=out:csv&sheet={sheet_name}&headers=1'.format(\n",
        "        key=key, sheet_name=sheet_name.replace(' ', '%20'))\n",
        "    print(url)\n",
        "    return url\n",
        "def sp2pd(key, sheet_name, verbose=False):\n",
        "    # spreadsheet TO Panda\n",
        "    import pandas as pd\n",
        "    df = pd.read_csv(load_from_gspreadsheet(key, sheet_name))\n",
        "    # df = df[df.File_Number.isnull() == False]\n",
        "    df.fillna('', inplace=True)\n",
        "    if verbose: print ('Variables: ', df.columns.values)\n",
        "    return df\n",
        "import matplotlib.pyplot as plt\n",
        "import pandas as pd\n",
        "import numpy as np\n",
        "plt.style.use('fast')\n",
        "plt.rc('font', size = 14, family ='Sans-Serif')"
      ],
      "execution_count": 7,
      "outputs": []
    },
    {
      "cell_type": "code",
      "metadata": {
        "id": "v7j7cZvfYtvG",
        "colab": {
          "base_uri": "https://localhost:8080/"
        },
        "outputId": "76daa996-a5eb-42c9-da4a-04483a8803b7"
      },
      "source": [
        "INFN = sp2pd(key='1pTju26izsWDAd90vn80qEyNbfnC5Q9Oh', sheet_name='INFN')\n",
        "# sosrtuire con CSN* per vedere le altre CSN (attaulente c''e' solo la 1)\n",
        "CSN2 = sp2pd(key='1pTju26izsWDAd90vn80qEyNbfnC5Q9Oh', sheet_name='CSN2')\n",
        "FE_INFN = sp2pd(key='1pTju26izsWDAd90vn80qEyNbfnC5Q9Oh', sheet_name='FE_INFN')\n",
        "ASS = sp2pd(key='1pTju26izsWDAd90vn80qEyNbfnC5Q9Oh', sheet_name='ASS')"
      ],
      "execution_count": 8,
      "outputs": [
        {
          "output_type": "stream",
          "text": [
            "https://docs.google.com/spreadsheets/d/1pTju26izsWDAd90vn80qEyNbfnC5Q9Oh/gviz/tq?tqx=out:csv&sheet=INFN&headers=1\n",
            "https://docs.google.com/spreadsheets/d/1pTju26izsWDAd90vn80qEyNbfnC5Q9Oh/gviz/tq?tqx=out:csv&sheet=CSN2&headers=1\n",
            "https://docs.google.com/spreadsheets/d/1pTju26izsWDAd90vn80qEyNbfnC5Q9Oh/gviz/tq?tqx=out:csv&sheet=FE_INFN&headers=1\n",
            "https://docs.google.com/spreadsheets/d/1pTju26izsWDAd90vn80qEyNbfnC5Q9Oh/gviz/tq?tqx=out:csv&sheet=ASS&headers=1\n"
          ],
          "name": "stdout"
        }
      ]
    },
    {
      "cell_type": "code",
      "metadata": {
        "id": "MVeDdKEOcZCJ",
        "colab": {
          "base_uri": "https://localhost:8080/",
          "height": 419
        },
        "outputId": "2df369f0-f9c7-4519-b9dc-8d0b6a35fbfb"
      },
      "source": [
        "CSN2"
      ],
      "execution_count": 9,
      "outputs": [
        {
          "output_type": "execute_result",
          "data": {
            "text/html": [
              "<div>\n",
              "<style scoped>\n",
              "    .dataframe tbody tr th:only-of-type {\n",
              "        vertical-align: middle;\n",
              "    }\n",
              "\n",
              "    .dataframe tbody tr th {\n",
              "        vertical-align: top;\n",
              "    }\n",
              "\n",
              "    .dataframe thead th {\n",
              "        text-align: right;\n",
              "    }\n",
              "</style>\n",
              "<table border=\"1\" class=\"dataframe\">\n",
              "  <thead>\n",
              "    <tr style=\"text-align: right;\">\n",
              "      <th></th>\n",
              "      <th>Cognome</th>\n",
              "      <th>Nome</th>\n",
              "      <th>Eta'</th>\n",
              "      <th>Genere</th>\n",
              "      <th>Contratti</th>\n",
              "      <th>Esperimenti</th>\n",
              "      <th>Finanziamenti Contratto</th>\n",
              "    </tr>\n",
              "  </thead>\n",
              "  <tbody>\n",
              "    <tr>\n",
              "      <th>0</th>\n",
              "      <td>Acerbi</td>\n",
              "      <td>Fabio</td>\n",
              "      <td>36</td>\n",
              "      <td>M</td>\n",
              "      <td>(01/01/2020 - 31/12/2020) Associato Scientific...</td>\n",
              "      <td>30% - (TIFP:CSN2) DARKSIDE (Ricercatore)</td>\n",
              "      <td></td>\n",
              "    </tr>\n",
              "    <tr>\n",
              "      <th>1</th>\n",
              "      <td>Acernese</td>\n",
              "      <td>Fausto</td>\n",
              "      <td>45</td>\n",
              "      <td>M</td>\n",
              "      <td>(01/01/2020 - 31/12/2020) Associato Incarico d...</td>\n",
              "      <td>20% - (NA:CSN2) ET_ITALIA (Ricercatore)\\n  80%...</td>\n",
              "      <td></td>\n",
              "    </tr>\n",
              "    <tr>\n",
              "      <th>2</th>\n",
              "      <td>Addazi</td>\n",
              "      <td>Andrea</td>\n",
              "      <td>31</td>\n",
              "      <td>M</td>\n",
              "      <td>(15/01/2020 - 31/12/2020) Associato Scientific...</td>\n",
              "      <td>40% - (ROMA2:CSN2) DAMA (Ricercatore)</td>\n",
              "      <td></td>\n",
              "    </tr>\n",
              "    <tr>\n",
              "      <th>3</th>\n",
              "      <td>Addesso</td>\n",
              "      <td>Paolo</td>\n",
              "      <td>45</td>\n",
              "      <td>M</td>\n",
              "      <td>(01/01/2020 - 31/12/2020) Associato Tecnologic...</td>\n",
              "      <td>20% - (SA:CSN2) VIRGO (Ricercatore)</td>\n",
              "      <td></td>\n",
              "    </tr>\n",
              "    <tr>\n",
              "      <th>4</th>\n",
              "      <td>Adriani</td>\n",
              "      <td>Oscar</td>\n",
              "      <td>55</td>\n",
              "      <td>M</td>\n",
              "      <td>(01/01/2020 - 31/12/2020) Associato Incarico d...</td>\n",
              "      <td>70% - (FI:CSN2) HERD_DMP (Ricercatore)</td>\n",
              "      <td></td>\n",
              "    </tr>\n",
              "    <tr>\n",
              "      <th>...</th>\n",
              "      <td>...</td>\n",
              "      <td>...</td>\n",
              "      <td>...</td>\n",
              "      <td>...</td>\n",
              "      <td>...</td>\n",
              "      <td>...</td>\n",
              "      <td>...</td>\n",
              "    </tr>\n",
              "    <tr>\n",
              "      <th>1586</th>\n",
              "      <td>Zendri</td>\n",
              "      <td>Jean Pierre</td>\n",
              "      <td>57</td>\n",
              "      <td>M</td>\n",
              "      <td>(14/02/1997 - nessuna scad.) Dipendente Primo ...</td>\n",
              "      <td>40% - (PD:CSN2) ET_ITALIA (Ricercatore)\\n  60%...</td>\n",
              "      <td></td>\n",
              "    </tr>\n",
              "    <tr>\n",
              "      <th>1587</th>\n",
              "      <td>Zichichi</td>\n",
              "      <td>Antonino</td>\n",
              "      <td>90</td>\n",
              "      <td>M</td>\n",
              "      <td>(01/01/2020 - 31/12/2020) Associato Incarico d...</td>\n",
              "      <td>0% - (BO:CSN2) AMS2 (Ricercatore)\\n  0% - (BO:...</td>\n",
              "      <td></td>\n",
              "    </tr>\n",
              "    <tr>\n",
              "      <th>1588</th>\n",
              "      <td>Zuccarello</td>\n",
              "      <td>Francesca</td>\n",
              "      <td>66</td>\n",
              "      <td>F</td>\n",
              "      <td>(01/01/2020 - 31/12/2020) Associato Scientific...</td>\n",
              "      <td>20% - (CT:CSN2) AUGER (Ricercatore)\\n  30% - (...</td>\n",
              "      <td></td>\n",
              "    </tr>\n",
              "    <tr>\n",
              "      <th>1589</th>\n",
              "      <td>Zucchelli</td>\n",
              "      <td>Stefano</td>\n",
              "      <td>66</td>\n",
              "      <td>M</td>\n",
              "      <td>(01/01/2020 - 31/12/2020) Associato Incarico d...</td>\n",
              "      <td>30% - (BO:CSN2) CUORE (Ricercatore)\\n  10% - (...</td>\n",
              "      <td></td>\n",
              "    </tr>\n",
              "    <tr>\n",
              "      <th>1590</th>\n",
              "      <td>Zuccon</td>\n",
              "      <td>Paolo</td>\n",
              "      <td>47</td>\n",
              "      <td>M</td>\n",
              "      <td>(01/01/2020 - 31/12/2020) Associato Incarico d...</td>\n",
              "      <td>70% - (TIFP:CSN2) AMS2 (Ricercatore)\\n  20% - ...</td>\n",
              "      <td></td>\n",
              "    </tr>\n",
              "  </tbody>\n",
              "</table>\n",
              "<p>1591 rows × 7 columns</p>\n",
              "</div>"
            ],
            "text/plain": [
              "         Cognome  ... Finanziamenti Contratto\n",
              "0         Acerbi  ...                        \n",
              "1       Acernese  ...                        \n",
              "2         Addazi  ...                        \n",
              "3        Addesso  ...                        \n",
              "4        Adriani  ...                        \n",
              "...          ...  ...                     ...\n",
              "1586      Zendri  ...                        \n",
              "1587    Zichichi  ...                        \n",
              "1588  Zuccarello  ...                        \n",
              "1589   Zucchelli  ...                        \n",
              "1590      Zuccon  ...                        \n",
              "\n",
              "[1591 rows x 7 columns]"
            ]
          },
          "metadata": {
            "tags": []
          },
          "execution_count": 9
        }
      ]
    },
    {
      "cell_type": "code",
      "metadata": {
        "id": "5Y9GR_YJQeUR",
        "colab": {
          "base_uri": "https://localhost:8080/",
          "height": 419
        },
        "outputId": "33fe2b5b-5bcd-457e-81e5-c8a803f834ed"
      },
      "source": [
        "FE_INFN"
      ],
      "execution_count": 10,
      "outputs": [
        {
          "output_type": "execute_result",
          "data": {
            "text/html": [
              "<div>\n",
              "<style scoped>\n",
              "    .dataframe tbody tr th:only-of-type {\n",
              "        vertical-align: middle;\n",
              "    }\n",
              "\n",
              "    .dataframe tbody tr th {\n",
              "        vertical-align: top;\n",
              "    }\n",
              "\n",
              "    .dataframe thead th {\n",
              "        text-align: right;\n",
              "    }\n",
              "</style>\n",
              "<table border=\"1\" class=\"dataframe\">\n",
              "  <thead>\n",
              "    <tr style=\"text-align: right;\">\n",
              "      <th></th>\n",
              "      <th>PROGETTO</th>\n",
              "      <th>CNS</th>\n",
              "      <th>DAL</th>\n",
              "      <th>AL</th>\n",
              "      <th>PROROGA</th>\n",
              "      <th>GRANT INFN</th>\n",
              "      <th>TOTALE BUDGET</th>\n",
              "      <th>PROJECT GRANT TOTALE</th>\n",
              "    </tr>\n",
              "  </thead>\n",
              "  <tbody>\n",
              "    <tr>\n",
              "      <th>0</th>\n",
              "      <td>PRIN-10_GEMME</td>\n",
              "      <td>2</td>\n",
              "      <td>01/06/13</td>\n",
              "      <td>01/02/16</td>\n",
              "      <td>31/03/20</td>\n",
              "      <td>50'000.00</td>\n",
              "      <td>1'000'000.00</td>\n",
              "      <td>1'000'000.00</td>\n",
              "    </tr>\n",
              "    <tr>\n",
              "      <th>1</th>\n",
              "      <td>PRIN-2015L33WAK_002</td>\n",
              "      <td>2</td>\n",
              "      <td>12/03/20</td>\n",
              "      <td>19/03/30</td>\n",
              "      <td>15/04/20</td>\n",
              "      <td>2'000.00</td>\n",
              "      <td>1'234.00</td>\n",
              "      <td></td>\n",
              "    </tr>\n",
              "    <tr>\n",
              "      <th>2</th>\n",
              "      <td>PRIN-2015P5SBHT_002</td>\n",
              "      <td>4</td>\n",
              "      <td>07/02/17</td>\n",
              "      <td>06/02/20</td>\n",
              "      <td></td>\n",
              "      <td>75'000.00</td>\n",
              "      <td></td>\n",
              "      <td></td>\n",
              "    </tr>\n",
              "    <tr>\n",
              "      <th>3</th>\n",
              "      <td>UE-3DSPIN</td>\n",
              "      <td>4</td>\n",
              "      <td>01/07/15</td>\n",
              "      <td>30/06/20</td>\n",
              "      <td></td>\n",
              "      <td>315'000.00</td>\n",
              "      <td>1'509'000.00</td>\n",
              "      <td>1'509'000.00</td>\n",
              "    </tr>\n",
              "    <tr>\n",
              "      <th>4</th>\n",
              "      <td>UE-4DPHOTON</td>\n",
              "      <td>1</td>\n",
              "      <td>01/12/19</td>\n",
              "      <td>30/11/24</td>\n",
              "      <td></td>\n",
              "      <td>658'750.00</td>\n",
              "      <td>1'975'000.00</td>\n",
              "      <td>1'975'000.00</td>\n",
              "    </tr>\n",
              "    <tr>\n",
              "      <th>...</th>\n",
              "      <td>...</td>\n",
              "      <td>...</td>\n",
              "      <td>...</td>\n",
              "      <td>...</td>\n",
              "      <td>...</td>\n",
              "      <td>...</td>\n",
              "      <td>...</td>\n",
              "      <td>...</td>\n",
              "    </tr>\n",
              "    <tr>\n",
              "      <th>551</th>\n",
              "      <td>POR-WE_LIGHT</td>\n",
              "      <td>5</td>\n",
              "      <td></td>\n",
              "      <td>29/06/21</td>\n",
              "      <td></td>\n",
              "      <td>69'361.39</td>\n",
              "      <td>835'082.90</td>\n",
              "      <td></td>\n",
              "    </tr>\n",
              "    <tr>\n",
              "      <th>552</th>\n",
              "      <td>UE-WENMR</td>\n",
              "      <td>5</td>\n",
              "      <td>01/11/10</td>\n",
              "      <td>31/10/13</td>\n",
              "      <td></td>\n",
              "      <td>363'250.00</td>\n",
              "      <td>2'150'000.00</td>\n",
              "      <td>2'433'988.00</td>\n",
              "    </tr>\n",
              "    <tr>\n",
              "      <th>553</th>\n",
              "      <td>UE-WEST_LIFE</td>\n",
              "      <td>7</td>\n",
              "      <td>01/11/15</td>\n",
              "      <td>01/11/18</td>\n",
              "      <td></td>\n",
              "      <td>344'000.00</td>\n",
              "      <td>3'981'125.00</td>\n",
              "      <td>3'981'125.00</td>\n",
              "    </tr>\n",
              "    <tr>\n",
              "      <th>554</th>\n",
              "      <td>ALTRO-XIPE</td>\n",
              "      <td>5</td>\n",
              "      <td>01/01/18</td>\n",
              "      <td>01/01/30</td>\n",
              "      <td></td>\n",
              "      <td>195'600.00</td>\n",
              "      <td></td>\n",
              "      <td></td>\n",
              "    </tr>\n",
              "    <tr>\n",
              "      <th>555</th>\n",
              "      <td>UE-XLS</td>\n",
              "      <td>5</td>\n",
              "      <td>01/01/18</td>\n",
              "      <td>31/12/20</td>\n",
              "      <td></td>\n",
              "      <td>212'500.00</td>\n",
              "      <td>2'999'500.00</td>\n",
              "      <td>3'561'125.00</td>\n",
              "    </tr>\n",
              "  </tbody>\n",
              "</table>\n",
              "<p>556 rows × 8 columns</p>\n",
              "</div>"
            ],
            "text/plain": [
              "                PROGETTO  CNS  ... TOTALE BUDGET PROJECT GRANT TOTALE\n",
              "0          PRIN-10_GEMME    2  ...  1'000'000.00         1'000'000.00\n",
              "1    PRIN-2015L33WAK_002    2  ...      1'234.00                     \n",
              "2    PRIN-2015P5SBHT_002    4  ...                                   \n",
              "3              UE-3DSPIN    4  ...  1'509'000.00         1'509'000.00\n",
              "4            UE-4DPHOTON    1  ...  1'975'000.00         1'975'000.00\n",
              "..                   ...  ...  ...           ...                  ...\n",
              "551         POR-WE_LIGHT    5  ...    835'082.90                     \n",
              "552             UE-WENMR    5  ...  2'150'000.00         2'433'988.00\n",
              "553         UE-WEST_LIFE    7  ...  3'981'125.00         3'981'125.00\n",
              "554           ALTRO-XIPE    5  ...                                   \n",
              "555               UE-XLS    5  ...  2'999'500.00         3'561'125.00\n",
              "\n",
              "[556 rows x 8 columns]"
            ]
          },
          "metadata": {
            "tags": []
          },
          "execution_count": 10
        }
      ]
    },
    {
      "cell_type": "markdown",
      "metadata": {
        "id": "BBd22QRuAUnT"
      },
      "source": [
        "Anagrafica"
      ]
    },
    {
      "cell_type": "code",
      "metadata": {
        "id": "oXSE2hpshYb1",
        "colab": {
          "base_uri": "https://localhost:8080/"
        },
        "outputId": "4e70309d-bd1c-40bf-dfd0-00648dd81e3b"
      },
      "source": [
        "dipendenti   = pd.DataFrame(columns = CSN2.columns)\n",
        "d_dottorandi = pd.DataFrame(columns = CSN2.columns) \n",
        "d_borsisti   = pd.DataFrame(columns = CSN2.columns) \n",
        "d_assegnisti = pd.DataFrame(columns = CSN2.columns) \n",
        "d_tecnici    = pd.DataFrame(columns = CSN2.columns) \n",
        "associati    = pd.DataFrame(columns = CSN2.columns) \n",
        "a_dottorandi = pd.DataFrame(columns = CSN2.columns) \n",
        "a_borsisti   = pd.DataFrame(columns = CSN2.columns) \n",
        "a_assegnisti = pd.DataFrame(columns = CSN2.columns) \n",
        "a_tecnici    = pd.DataFrame(columns = CSN2.columns) \n",
        "altro        = pd.DataFrame(columns = CSN2.columns)\n",
        "for i, contratto in enumerate(CSN2.Contratti):\n",
        "  if contratto == '' and not (contratto.find('Dipendente')>=0 or contratto.find('Associato')>=0):\n",
        "    altro = altro.append(CSN2.iloc[i], ignore_index=True)\n",
        "  if contratto.find('Dipendente')>=0:\n",
        "    dipendenti = dipendenti.append(CSN2.iloc[i], ignore_index=True)\n",
        "    if contratto.find('Dottorando')>=0:\n",
        "      d_dottorandi = d_dottorandi.append(CSN2.iloc[i], ignore_index=True)\n",
        "    if contratto.find('Borsista')>=0:\n",
        "      d_borsisti = d_borsisti.append(CSN2.iloc[i], ignore_index=True)\n",
        "    if contratto.find('Assegnista')>=0:\n",
        "      d_assegnisti = d_assegnisti.append(CSN2.iloc[i], ignore_index=True)\n",
        "    if contratto.find('Tecnico')>=0:\n",
        "      d_tecnici = d_tecnici.append(CSN2.iloc[i], ignore_index=True)\n",
        "\n",
        "  if contratto.find('Associato')>=0:\n",
        "    associati = associati.append(CSN2.iloc[i], ignore_index=True)\n",
        "    if contratto.find('Dottorando')>=0:\n",
        "      a_dottorandi = a_dottorandi.append(CSN2.iloc[i], ignore_index=True)\n",
        "    if contratto.find('Borsista')>=0:\n",
        "      a_borsisti = a_borsisti.append(CSN2.iloc[i], ignore_index=True)\n",
        "    if contratto.find('Assegnista')>=0:\n",
        "      a_assegnisti = a_assegnisti.append(CSN2.iloc[i], ignore_index=True)\n",
        "    if contratto.find('Tecnico')>=0:\n",
        "      a_tecnici = a_tecnici.append(CSN2.iloc[i], ignore_index=True)\n",
        "\n",
        "print ('Popolazione: ', len(CSN2),'\\n',\n",
        "       'Dipendenti: ', len(dipendenti), len(d_dottorandi), len(d_borsisti), len(d_assegnisti), len(d_tecnici), '\\n',\n",
        "       'Associati: ', len(associati), len(a_dottorandi), len(a_borsisti), len(a_assegnisti), len(a_tecnici), '\\n',\n",
        "       'altro: ', len(altro))"
      ],
      "execution_count": 11,
      "outputs": [
        {
          "output_type": "stream",
          "text": [
            "Popolazione:  1591 \n",
            " Dipendenti:  503 0 6 0 93 \n",
            " Associati:  877 127 7 59 39 \n",
            " altro:  211\n"
          ],
          "name": "stdout"
        }
      ]
    },
    {
      "cell_type": "code",
      "metadata": {
        "id": "shLOgcDLswY_",
        "colab": {
          "base_uri": "https://localhost:8080/",
          "height": 49
        },
        "outputId": "8d9104f0-1f67-46c3-b6b4-a1fe5d6b0045"
      },
      "source": [
        "dipendenti[dipendenti[\"Eta'\"]>70]"
      ],
      "execution_count": 12,
      "outputs": [
        {
          "output_type": "execute_result",
          "data": {
            "text/html": [
              "<div>\n",
              "<style scoped>\n",
              "    .dataframe tbody tr th:only-of-type {\n",
              "        vertical-align: middle;\n",
              "    }\n",
              "\n",
              "    .dataframe tbody tr th {\n",
              "        vertical-align: top;\n",
              "    }\n",
              "\n",
              "    .dataframe thead th {\n",
              "        text-align: right;\n",
              "    }\n",
              "</style>\n",
              "<table border=\"1\" class=\"dataframe\">\n",
              "  <thead>\n",
              "    <tr style=\"text-align: right;\">\n",
              "      <th></th>\n",
              "      <th>Cognome</th>\n",
              "      <th>Nome</th>\n",
              "      <th>Eta'</th>\n",
              "      <th>Genere</th>\n",
              "      <th>Contratti</th>\n",
              "      <th>Esperimenti</th>\n",
              "      <th>Finanziamenti Contratto</th>\n",
              "    </tr>\n",
              "  </thead>\n",
              "  <tbody>\n",
              "  </tbody>\n",
              "</table>\n",
              "</div>"
            ],
            "text/plain": [
              "Empty DataFrame\n",
              "Columns: [Cognome, Nome, Eta', Genere, Contratti, Esperimenti, Finanziamenti Contratto]\n",
              "Index: []"
            ]
          },
          "metadata": {
            "tags": []
          },
          "execution_count": 12
        }
      ]
    },
    {
      "cell_type": "code",
      "metadata": {
        "id": "RIjX4YCStHhg",
        "colab": {
          "base_uri": "https://localhost:8080/",
          "height": 1000
        },
        "outputId": "d9fa7a71-7b58-4729-bd60-93d7e251ed9b"
      },
      "source": [
        "plt.figure(figsize = (10,5))\n",
        "plt.hist(CSN2[\"Eta'\"], label='CSN2', bins=70, range=(20,90))\n",
        "plt.hist(dipendenti[\"Eta'\"], label='Dipendenti', bins=70, range=(20,90))\n",
        "plt.hist(a_dottorandi[\"Eta'\"], label='Dottorandi', bins=70, range=(20,90))\n",
        "plt.hist(np.concatenate((a_assegnisti[\"Eta'\"], d_assegnisti[\"Eta'\"])), label='Assegnisti', bins=70, range=(20,90))\n",
        "plt.hist(np.concatenate((a_borsisti[\"Eta'\"], d_borsisti[\"Eta'\"])), label='Borsisti', bins=70, range=(20,90))\n",
        "#plt.hist(np.concatenate((a_tecnici[\"Eta'\"], d_tecnici[\"Eta'\"])), label='Tecnici TD', bins=70, range=(20,90))\n",
        "\n",
        "#plt.yscale('log')\n",
        "plt.xlabel('Età')\n",
        "plt.legend()\n",
        "plt.show()\n",
        "plt.figure(figsize = (10,10))\n",
        "CSN2.Genere.value_counts().plot.pie(autopct='%1.1f%%', textprops={'fontsize': 24})\n",
        "plt.show()\n",
        "plt.figure(figsize = (10,10))\n",
        "who = [len(associati), len(dipendenti), len(altro)]\n",
        "who_labels = [ 'associati', 'dipendenti', 'altro']\n",
        "plt.pie(who, labels = who_labels, autopct='%1.1f%%', textprops={'fontsize': 24})\n",
        "plt.show()\n",
        "plt.figure(figsize = (10,10))\n",
        "who = [len(associati), len(a_dottorandi), len(a_borsisti), len(a_assegnisti), len(a_tecnici)]\n",
        "who_labels = [ 'associati', 'dottorandi', 'borsisti', 'assegnisti', 'tecnici']\n",
        "plt.pie(who, labels = who_labels, autopct='%1.1f%%', )\n",
        "plt.show()\n",
        "plt.figure(figsize = (10,10))\n",
        "\n",
        "who = [len(dipendenti), len(d_dottorandi), len(d_borsisti), len(d_assegnisti), len(d_tecnici)]\n",
        "who_labels = ['dipendenti','dottorandi', 'borsisti', 'assegnisti', 'tecnici']\n",
        "plt.pie(who, labels = who_labels, autopct='%1.1f%%')\n",
        "plt.show()\n",
        "\n",
        "plt.figure(figsize = (10,5))\n",
        "plt.hist(CSN2.Genere, label='CSN2', bins=2)\n",
        "plt.hist(dipendenti.Genere, label='Dipendenti', bins=2)\n",
        "plt.hist(a_dottorandi.Genere, label='Dottorandi', bins=2)\n",
        "plt.hist(np.concatenate((a_assegnisti.Genere, d_assegnisti.Genere)), label='Assegnisti', bins=2)\n",
        "plt.hist(np.concatenate((a_borsisti.Genere, d_borsisti.Genere)), label='Borsisti', bins=2)\n",
        "#plt.yscale('log')\n",
        "plt.legend()\n",
        "plt.show()"
      ],
      "execution_count": 13,
      "outputs": [
        {
          "output_type": "display_data",
          "data": {
            "image/png": "[encoded data removed]",
            "text/plain": [
              "<Figure size 720x360 with 1 Axes>"
            ]
          },
          "metadata": {
            "tags": [],
            "needs_background": "light"
          }
        },
        {
          "output_type": "display_data",
          "data": {
            "image/png": "[encoded data removed]",
            "text/plain": [
              "<Figure size 720x720 with 1 Axes>"
            ]
          },
          "metadata": {
            "tags": []
          }
        },
        {
          "output_type": "display_data",
          "data": {
            "image/png": "[encoded data removed]",
            "text/plain": [
              "<Figure size 720x720 with 1 Axes>"
            ]
          },
          "metadata": {
            "tags": []
          }
        },
        {
          "output_type": "display_data",
          "data": {
            "image/png": "[encoded data removed]",
            "text/plain": [
              "<Figure size 720x720 with 1 Axes>"
            ]
          },
          "metadata": {
            "tags": []
          }
        },
        {
          "output_type": "display_data",
          "data": {
            "image/png": "[encoded data removed]",
            "text/plain": [
              "<Figure size 720x720 with 1 Axes>"
            ]
          },
          "metadata": {
            "tags": []
          }
        },
        {
          "output_type": "display_data",
          "data": {
            "image/png": "[encoded data removed]",
            "text/plain": [
              "<Figure size 720x360 with 1 Axes>"
            ]
          },
          "metadata": {
            "tags": [],
            "needs_background": "light"
          }
        }
      ]
    },
    {
      "cell_type": "code",
      "metadata": {
        "id": "wVmFYBQYdnC1",
        "colab": {
          "base_uri": "https://localhost:8080/"
        },
        "outputId": "845f7c81-23c5-448b-b559-1fb740987060"
      },
      "source": [
        "I_dipendenti   = pd.DataFrame(columns = INFN.columns)\n",
        "I_d_dottorandi = pd.DataFrame(columns = INFN.columns) \n",
        "I_d_borsisti   = pd.DataFrame(columns = INFN.columns) \n",
        "I_d_assegnisti = pd.DataFrame(columns = INFN.columns) \n",
        "I_d_tecnici    = pd.DataFrame(columns = INFN.columns) \n",
        "I_associati    = pd.DataFrame(columns = INFN.columns) \n",
        "I_a_dottorandi = pd.DataFrame(columns = INFN.columns) \n",
        "I_a_borsisti   = pd.DataFrame(columns = INFN.columns) \n",
        "I_a_assegnisti = pd.DataFrame(columns = INFN.columns) \n",
        "I_a_tecnici    = pd.DataFrame(columns = INFN.columns) \n",
        "I_altro        = pd.DataFrame(columns = INFN.columns)\n",
        "for i, contratto in enumerate(INFN.Contratti):\n",
        "  if contratto == '' and not (contratto.find('Dipendente')>=0 or contratto.find('Associato')>=0):\n",
        "    I_altro = I_altro.append(INFN.iloc[i], ignore_index=True)\n",
        "  if contratto.find('Dipendente')>=0:\n",
        "    I_dipendenti = I_dipendenti.append(INFN.iloc[i], ignore_index=True)\n",
        "    if contratto.find('Dottorando')>=0:\n",
        "      I_d_dottorandi = I_d_dottorandi.append(INFN.iloc[i], ignore_index=True)\n",
        "    if contratto.find('Borsista')>=0:\n",
        "      I_d_borsisti = I_d_borsisti.append(INFN.iloc[i], ignore_index=True)\n",
        "    if contratto.find('Assegnista')>=0:\n",
        "      I_d_assegnisti = I_d_assegnisti.append(INFN.iloc[i], ignore_index=True)\n",
        "    if contratto.find('Tecnico')>=0:\n",
        "      I_d_tecnici = I_d_tecnici.append(INFN.iloc[i], ignore_index=True)\n",
        "\n",
        "  if contratto.find('Associato')>=0:\n",
        "    I_associati = I_associati.append(INFN.iloc[i], ignore_index=True)\n",
        "    if contratto.find('Dottorando')>=0:\n",
        "      I_a_dottorandi = I_a_dottorandi.append(INFN.iloc[i], ignore_index=True)\n",
        "    if contratto.find('Borsista')>=0:\n",
        "      I_a_borsisti = I_a_borsisti.append(INFN.iloc[i], ignore_index=True)\n",
        "    if contratto.find('Assegnista')>=0:\n",
        "      I_a_assegnisti = I_a_assegnisti.append(INFN.iloc[i], ignore_index=True)\n",
        "    if contratto.find('Tecnico')>=0:\n",
        "      I_a_tecnici = I_a_tecnici.append(INFN.iloc[i], ignore_index=True)\n",
        "\n",
        "print ('Popolazione: ', len(INFN),'\\n',\n",
        "       'I_dipendenti: ', len(I_dipendenti), len(I_d_dottorandi), len(I_d_borsisti), len(I_d_assegnisti), len(I_d_tecnici), '\\n',\n",
        "       'I_associati: ', len(I_associati), len(I_a_dottorandi), len(I_a_borsisti), len(I_a_assegnisti), len(I_a_tecnici), '\\n',\n",
        "       'I_Altro: ', len(I_altro))"
      ],
      "execution_count": 14,
      "outputs": [
        {
          "output_type": "stream",
          "text": [
            "Popolazione:  5394 \n",
            " I_dipendenti:  1572 2 56 0 248 \n",
            " I_associati:  3039 625 25 231 118 \n",
            " I_Altro:  785\n"
          ],
          "name": "stdout"
        }
      ]
    },
    {
      "cell_type": "code",
      "metadata": {
        "id": "H5D19_ofdQLg",
        "colab": {
          "base_uri": "https://localhost:8080/",
          "height": 575
        },
        "outputId": "0e423684-d517-4b8f-d56b-e164ca4e7ee6"
      },
      "source": [
        "# plt.figure(figsize = (10,5))\n",
        "# plt.hist(INFN[\"Eta'\"], label='INFN', bins=70, range=(20,90))\n",
        "# plt.hist(I_dipendenti[\"Eta'\"], label='I_dipendenti', bins=70, range=(20,90))\n",
        "# plt.hist(I_a_dottorandi[\"Eta'\"], label='Dottorandi', bins=70, range=(20,90))\n",
        "# plt.hist(np.concatenate((I_a_assegnisti[\"Eta'\"], I_d_assegnisti[\"Eta'\"])), label='Assegnisti', bins=70, range=(20,90))\n",
        "# plt.hist(np.concatenate((I_a_borsisti[\"Eta'\"], I_d_borsisti[\"Eta'\"])), label='Borsisti', bins=70, range=(20,90))\n",
        "# #plt.hist(np.concatenate((I_a_tecnici[\"Eta'\"], I_d_tecnici[\"Eta'\"])), label='Tecnici TD', bins=70, range=(20,90))\n",
        "\n",
        "# #plt.yscale('log')\n",
        "# plt.xlabel('Età')\n",
        "# plt.legend()\n",
        "# plt.show()\n",
        "plt.figure(figsize = (10,10))\n",
        "INFN.Genere.value_counts().plot.pie(autopct='%1.1f%%', textprops={'fontsize': 24})\n",
        "plt.show()"
      ],
      "execution_count": 15,
      "outputs": [
        {
          "output_type": "display_data",
          "data": {
            "image/png": "[encoded data removed]",
            "text/plain": [
              "<Figure size 720x720 with 1 Axes>"
            ]
          },
          "metadata": {
            "tags": []
          }
        }
      ]
    },
    {
      "cell_type": "markdown",
      "metadata": {
        "id": "OsjEC4eyaRmC"
      },
      "source": [
        "Fondi Esterni, progetti e persone"
      ]
    },
    {
      "cell_type": "code",
      "metadata": {
        "id": "vJxQEYJUGRX4"
      },
      "source": [
        "import time\n",
        "fe_attivi = pd.DataFrame(columns = FE_INFN.columns)\n",
        "for i, fe_end in enumerate(FE_INFN['AL']):\n",
        "  if time.strptime(fe_end, \"%d/%m/%y\") > time.strptime('31/12/20', \"%d/%m/%y\"):\n",
        "    fe_attivi = fe_attivi.append(FE_INFN.iloc[i], ignore_index=True)\n",
        "\n"
      ],
      "execution_count": 21,
      "outputs": []
    },
    {
      "cell_type": "code",
      "metadata": {
        "id": "fdAZd8Q0Pxt9",
        "colab": {
          "base_uri": "https://localhost:8080/",
          "height": 638
        },
        "outputId": "6cca684c-18f9-4831-d3ec-f784d2f6b66a"
      },
      "source": [
        "fe_attivi[fe_attivi['CNS']==7]"
      ],
      "execution_count": 22,
      "outputs": [
        {
          "output_type": "execute_result",
          "data": {
            "text/html": [
              "<div>\n",
              "<style scoped>\n",
              "    .dataframe tbody tr th:only-of-type {\n",
              "        vertical-align: middle;\n",
              "    }\n",
              "\n",
              "    .dataframe tbody tr th {\n",
              "        vertical-align: top;\n",
              "    }\n",
              "\n",
              "    .dataframe thead th {\n",
              "        text-align: right;\n",
              "    }\n",
              "</style>\n",
              "<table border=\"1\" class=\"dataframe\">\n",
              "  <thead>\n",
              "    <tr style=\"text-align: right;\">\n",
              "      <th></th>\n",
              "      <th>PROGETTO</th>\n",
              "      <th>CNS</th>\n",
              "      <th>DAL</th>\n",
              "      <th>AL</th>\n",
              "      <th>PROROGA</th>\n",
              "      <th>GRANT INFN</th>\n",
              "      <th>TOTALE BUDGET</th>\n",
              "      <th>PROJECT GRANT TOTALE</th>\n",
              "    </tr>\n",
              "  </thead>\n",
              "  <tbody>\n",
              "    <tr>\n",
              "      <th>43</th>\n",
              "      <td>UE-C_SCALE</td>\n",
              "      <td>7</td>\n",
              "      <td>01/01/21</td>\n",
              "      <td>30/06/23</td>\n",
              "      <td></td>\n",
              "      <td></td>\n",
              "      <td></td>\n",
              "      <td></td>\n",
              "    </tr>\n",
              "    <tr>\n",
              "      <th>44</th>\n",
              "      <td>PON-CA_2020</td>\n",
              "      <td>7</td>\n",
              "      <td>01/09/15</td>\n",
              "      <td>31/12/21</td>\n",
              "      <td></td>\n",
              "      <td></td>\n",
              "      <td></td>\n",
              "      <td></td>\n",
              "    </tr>\n",
              "    <tr>\n",
              "      <th>45</th>\n",
              "      <td>PON-CAGLIARI_2020</td>\n",
              "      <td>7</td>\n",
              "      <td>01/01/18</td>\n",
              "      <td>01/01/30</td>\n",
              "      <td></td>\n",
              "      <td>1'302'000.00</td>\n",
              "      <td></td>\n",
              "      <td></td>\n",
              "    </tr>\n",
              "    <tr>\n",
              "      <th>46</th>\n",
              "      <td>PON-CAGLIARI_2020FO</td>\n",
              "      <td>7</td>\n",
              "      <td>01/06/19</td>\n",
              "      <td>30/09/21</td>\n",
              "      <td></td>\n",
              "      <td>196'500.00</td>\n",
              "      <td></td>\n",
              "      <td></td>\n",
              "    </tr>\n",
              "    <tr>\n",
              "      <th>61</th>\n",
              "      <td>PON-CNRBIOMICS_PON</td>\n",
              "      <td>7</td>\n",
              "      <td></td>\n",
              "      <td>30/06/21</td>\n",
              "      <td></td>\n",
              "      <td>604'571.00</td>\n",
              "      <td></td>\n",
              "      <td></td>\n",
              "    </tr>\n",
              "    <tr>\n",
              "      <th>72</th>\n",
              "      <td>POR-DIONCOGEN</td>\n",
              "      <td>7</td>\n",
              "      <td>11/12/19</td>\n",
              "      <td>10/06/22</td>\n",
              "      <td></td>\n",
              "      <td></td>\n",
              "      <td></td>\n",
              "      <td></td>\n",
              "    </tr>\n",
              "    <tr>\n",
              "      <th>83</th>\n",
              "      <td>UE-EOSC_PILLAR</td>\n",
              "      <td>7</td>\n",
              "      <td>01/07/19</td>\n",
              "      <td>30/06/22</td>\n",
              "      <td></td>\n",
              "      <td>532'500.00</td>\n",
              "      <td>6'880'965.00</td>\n",
              "      <td>6'880'965.00</td>\n",
              "    </tr>\n",
              "    <tr>\n",
              "      <th>93</th>\n",
              "      <td>UE-ESCAPE</td>\n",
              "      <td>7</td>\n",
              "      <td>01/02/19</td>\n",
              "      <td>31/07/22</td>\n",
              "      <td></td>\n",
              "      <td>885'077.50</td>\n",
              "      <td>15'983'301.25</td>\n",
              "      <td>15'983'301.25</td>\n",
              "    </tr>\n",
              "    <tr>\n",
              "      <th>106</th>\n",
              "      <td>UE-EXSCALATE4COV</td>\n",
              "      <td>7</td>\n",
              "      <td>01/04/20</td>\n",
              "      <td>30/09/21</td>\n",
              "      <td></td>\n",
              "      <td>41'250.00</td>\n",
              "      <td>2'970'875.00</td>\n",
              "      <td>2'970'875.00</td>\n",
              "    </tr>\n",
              "    <tr>\n",
              "      <th>132</th>\n",
              "      <td>UE-HARMONY</td>\n",
              "      <td>7</td>\n",
              "      <td>01/10/17</td>\n",
              "      <td>31/12/21</td>\n",
              "      <td></td>\n",
              "      <td>356'499.16</td>\n",
              "      <td>20'200'000.00</td>\n",
              "      <td>42'205'587.60</td>\n",
              "    </tr>\n",
              "    <tr>\n",
              "      <th>133</th>\n",
              "      <td>UE-HARMONY_PLUS</td>\n",
              "      <td>7</td>\n",
              "      <td>01/10/20</td>\n",
              "      <td>30/09/23</td>\n",
              "      <td></td>\n",
              "      <td>100'000.00</td>\n",
              "      <td>6'715'625.00</td>\n",
              "      <td>11'882'669.00</td>\n",
              "    </tr>\n",
              "    <tr>\n",
              "      <th>163</th>\n",
              "      <td>UE-IOTWINS</td>\n",
              "      <td>7</td>\n",
              "      <td>01/09/19</td>\n",
              "      <td>31/08/22</td>\n",
              "      <td></td>\n",
              "      <td>1'308'500.00</td>\n",
              "      <td>16'422'552.01</td>\n",
              "      <td>20'029'818.75</td>\n",
              "    </tr>\n",
              "    <tr>\n",
              "      <th>177</th>\n",
              "      <td>PON-LIFEWATCH_PON</td>\n",
              "      <td>7</td>\n",
              "      <td></td>\n",
              "      <td>31/12/21</td>\n",
              "      <td></td>\n",
              "      <td>1'337'835.46</td>\n",
              "      <td>18'324'862.64</td>\n",
              "      <td></td>\n",
              "    </tr>\n",
              "    <tr>\n",
              "      <th>201</th>\n",
              "      <td>ALTRO-MONIFIVE</td>\n",
              "      <td>7</td>\n",
              "      <td></td>\n",
              "      <td>16/02/22</td>\n",
              "      <td></td>\n",
              "      <td>70'000.00</td>\n",
              "      <td></td>\n",
              "      <td></td>\n",
              "    </tr>\n",
              "    <tr>\n",
              "      <th>210</th>\n",
              "      <td>POR-NRC_DIONCOGEN</td>\n",
              "      <td>7</td>\n",
              "      <td>11/12/19</td>\n",
              "      <td>10/06/22</td>\n",
              "      <td></td>\n",
              "      <td></td>\n",
              "      <td></td>\n",
              "      <td></td>\n",
              "    </tr>\n",
              "    <tr>\n",
              "      <th>283</th>\n",
              "      <td>ALTRO-SIN_ICT4CITIZEN</td>\n",
              "      <td>7</td>\n",
              "      <td>01/01/18</td>\n",
              "      <td>31/03/21</td>\n",
              "      <td></td>\n",
              "      <td>291'000.00</td>\n",
              "      <td></td>\n",
              "      <td></td>\n",
              "    </tr>\n",
              "    <tr>\n",
              "      <th>293</th>\n",
              "      <td>POR-SUPER</td>\n",
              "      <td>7</td>\n",
              "      <td></td>\n",
              "      <td>17/06/21</td>\n",
              "      <td></td>\n",
              "      <td>645'785.00</td>\n",
              "      <td></td>\n",
              "      <td></td>\n",
              "    </tr>\n",
              "    <tr>\n",
              "      <th>294</th>\n",
              "      <td>ALTRO-SUPER_EC</td>\n",
              "      <td>7</td>\n",
              "      <td>01/01/19</td>\n",
              "      <td>01/01/30</td>\n",
              "      <td></td>\n",
              "      <td>110'000.00</td>\n",
              "      <td></td>\n",
              "      <td></td>\n",
              "    </tr>\n",
              "    <tr>\n",
              "      <th>297</th>\n",
              "      <td>ALTRO-SYS_NAZ_INFO</td>\n",
              "      <td>7</td>\n",
              "      <td>01/01/15</td>\n",
              "      <td>01/01/30</td>\n",
              "      <td></td>\n",
              "      <td></td>\n",
              "      <td></td>\n",
              "      <td></td>\n",
              "    </tr>\n",
              "  </tbody>\n",
              "</table>\n",
              "</div>"
            ],
            "text/plain": [
              "                  PROGETTO CNS  ...  TOTALE BUDGET PROJECT GRANT TOTALE\n",
              "43              UE-C_SCALE   7  ...                                    \n",
              "44             PON-CA_2020   7  ...                                    \n",
              "45       PON-CAGLIARI_2020   7  ...                                    \n",
              "46     PON-CAGLIARI_2020FO   7  ...                                    \n",
              "61      PON-CNRBIOMICS_PON   7  ...                                    \n",
              "72           POR-DIONCOGEN   7  ...                                    \n",
              "83          UE-EOSC_PILLAR   7  ...   6'880'965.00         6'880'965.00\n",
              "93               UE-ESCAPE   7  ...  15'983'301.25        15'983'301.25\n",
              "106       UE-EXSCALATE4COV   7  ...   2'970'875.00         2'970'875.00\n",
              "132             UE-HARMONY   7  ...  20'200'000.00        42'205'587.60\n",
              "133        UE-HARMONY_PLUS   7  ...   6'715'625.00        11'882'669.00\n",
              "163             UE-IOTWINS   7  ...  16'422'552.01        20'029'818.75\n",
              "177      PON-LIFEWATCH_PON   7  ...  18'324'862.64                     \n",
              "201         ALTRO-MONIFIVE   7  ...                                    \n",
              "210      POR-NRC_DIONCOGEN   7  ...                                    \n",
              "283  ALTRO-SIN_ICT4CITIZEN   7  ...                                    \n",
              "293              POR-SUPER   7  ...                                    \n",
              "294         ALTRO-SUPER_EC   7  ...                                    \n",
              "297     ALTRO-SYS_NAZ_INFO   7  ...                                    \n",
              "\n",
              "[19 rows x 8 columns]"
            ]
          },
          "metadata": {
            "tags": []
          },
          "execution_count": 22
        }
      ]
    },
    {
      "cell_type": "code",
      "metadata": {
        "id": "cfd5ZmH7L8Rn",
        "colab": {
          "base_uri": "https://localhost:8080/",
          "height": 594
        },
        "outputId": "47616746-02e5-48f8-842e-18b048d071c5"
      },
      "source": [
        "plt.figure(figsize = (10,10))\n",
        "sums = fe_attivi['CNS'].groupby(fe_attivi['CNS']).sum()\n",
        "plt.axis('equal');\n",
        "plt.pie(sums, labels=sums.index,  autopct='%1.1f%%');\n",
        "plt.title(\"Numero di progetti attivi oltre il 2020\")\n",
        "plt.show()"
      ],
      "execution_count": 23,
      "outputs": [
        {
          "output_type": "display_data",
          "data": {
            "image/png": "[encoded data removed]",
            "text/plain": [
              "<Figure size 720x720 with 1 Axes>"
            ]
          },
          "metadata": {
            "tags": []
          }
        }
      ]
    },
    {
      "cell_type": "code",
      "metadata": {
        "id": "twYnECPclVGI",
        "colab": {
          "base_uri": "https://localhost:8080/",
          "height": 886
        },
        "outputId": "5ec76de7-f5b7-4a43-d64c-a8c383f3b590"
      },
      "source": [
        "# cerca tutte le persone in vari progetti\n",
        "CSN2[CSN2[\"Esperimenti\"].str.contains(\"INITUM|CYGNO\")]"
      ],
      "execution_count": 24,
      "outputs": [
        {
          "output_type": "execute_result",
          "data": {
            "text/html": [
              "<div>\n",
              "<style scoped>\n",
              "    .dataframe tbody tr th:only-of-type {\n",
              "        vertical-align: middle;\n",
              "    }\n",
              "\n",
              "    .dataframe tbody tr th {\n",
              "        vertical-align: top;\n",
              "    }\n",
              "\n",
              "    .dataframe thead th {\n",
              "        text-align: right;\n",
              "    }\n",
              "</style>\n",
              "<table border=\"1\" class=\"dataframe\">\n",
              "  <thead>\n",
              "    <tr style=\"text-align: right;\">\n",
              "      <th></th>\n",
              "      <th>Cognome</th>\n",
              "      <th>Nome</th>\n",
              "      <th>Eta'</th>\n",
              "      <th>Genere</th>\n",
              "      <th>Contratti</th>\n",
              "      <th>Esperimenti</th>\n",
              "      <th>Finanziamenti Contratto</th>\n",
              "    </tr>\n",
              "  </thead>\n",
              "  <tbody>\n",
              "    <tr>\n",
              "      <th>80</th>\n",
              "      <td>Baracchini</td>\n",
              "      <td>Elisabetta</td>\n",
              "      <td>38</td>\n",
              "      <td>F</td>\n",
              "      <td>(01/01/2020 - 31/12/2020) Associato Incarico d...</td>\n",
              "      <td>20% - (LNGS:CSN2) CYGNO (Ricercatore)\\n  0% - ...</td>\n",
              "      <td></td>\n",
              "    </tr>\n",
              "    <tr>\n",
              "      <th>106</th>\n",
              "      <td>Bedogni</td>\n",
              "      <td>Roberto</td>\n",
              "      <td>46</td>\n",
              "      <td>M</td>\n",
              "      <td>(07/01/2014 - nessuna scad.) Dipendente Ricerc...</td>\n",
              "      <td>5% - (LNF:CSN2) CYGNO (Ricercatore)</td>\n",
              "      <td></td>\n",
              "    </tr>\n",
              "    <tr>\n",
              "      <th>123</th>\n",
              "      <td>Benussi</td>\n",
              "      <td>Luigi</td>\n",
              "      <td>53</td>\n",
              "      <td>M</td>\n",
              "      <td>(01/02/2010 - nessuna scad.) Dipendente Ricerc...</td>\n",
              "      <td>20% - (LNF:CSN2) CYGNO (Ricercatore)</td>\n",
              "      <td></td>\n",
              "    </tr>\n",
              "    <tr>\n",
              "      <th>149</th>\n",
              "      <td>Bianco</td>\n",
              "      <td>Stefano</td>\n",
              "      <td>59</td>\n",
              "      <td>M</td>\n",
              "      <td>(01/03/1992 - nessuna scad.) Dipendente Primo ...</td>\n",
              "      <td>20% - (LNF:CSN2) CYGNO (Ricercatore)</td>\n",
              "      <td></td>\n",
              "    </tr>\n",
              "    <tr>\n",
              "      <th>250</th>\n",
              "      <td>Capoccia</td>\n",
              "      <td>Cesidio</td>\n",
              "      <td>56</td>\n",
              "      <td>M</td>\n",
              "      <td>(01/07/1994 - nessuna scad.) Dipendente Collab...</td>\n",
              "      <td>30% - (LNF:CSN2) CYGNO (Tecnico)</td>\n",
              "      <td></td>\n",
              "    </tr>\n",
              "    <tr>\n",
              "      <th>253</th>\n",
              "      <td>Caponero</td>\n",
              "      <td>Michele Arturo</td>\n",
              "      <td>59</td>\n",
              "      <td>M</td>\n",
              "      <td>(01/01/2020 - 31/12/2020) Associato Scientific...</td>\n",
              "      <td>20% - (LNF:CSN2) CYGNO (Ricercatore)</td>\n",
              "      <td></td>\n",
              "    </tr>\n",
              "    <tr>\n",
              "      <th>308</th>\n",
              "      <td>Cavoto</td>\n",
              "      <td>Gianluca</td>\n",
              "      <td>47</td>\n",
              "      <td>M</td>\n",
              "      <td>(19/03/2020 - 31/12/2020) Associato Incarico d...</td>\n",
              "      <td>30% - (ROMA1:CSN2) CYGNO (Ricercatore)\\n  0% -...</td>\n",
              "      <td></td>\n",
              "    </tr>\n",
              "    <tr>\n",
              "      <th>422</th>\n",
              "      <td>D'Imperio</td>\n",
              "      <td>Giulia</td>\n",
              "      <td>32</td>\n",
              "      <td>F</td>\n",
              "      <td>(02/09/2019 - nessuna scad.) Dipendente Ricerc...</td>\n",
              "      <td>50% - (ROMA1:CSN2) CYGNO (Ricercatore)\\n  50% ...</td>\n",
              "      <td></td>\n",
              "    </tr>\n",
              "    <tr>\n",
              "      <th>514</th>\n",
              "      <td>Di Marco</td>\n",
              "      <td>Emanuele</td>\n",
              "      <td>41</td>\n",
              "      <td>M</td>\n",
              "      <td>(01/04/2015 - nessuna scad.) Dipendente Ricerc...</td>\n",
              "      <td>10% - (ROMA1:CSN2) CYGNO (Ricercatore)\\n  10% ...</td>\n",
              "      <td></td>\n",
              "    </tr>\n",
              "    <tr>\n",
              "      <th>742</th>\n",
              "      <td>Iacoangeli</td>\n",
              "      <td>Francesco</td>\n",
              "      <td>43</td>\n",
              "      <td>M</td>\n",
              "      <td>(01/10/2018 - nessuna scad.) Dipendente Tecnol...</td>\n",
              "      <td>30% - (ROMA1:CSN2) CYGNO (Tecnologo)</td>\n",
              "      <td></td>\n",
              "    </tr>\n",
              "    <tr>\n",
              "      <th>855</th>\n",
              "      <td>Maccarrone</td>\n",
              "      <td>Giovanni</td>\n",
              "      <td>60</td>\n",
              "      <td>M</td>\n",
              "      <td>(01/02/1988 - nessuna scad.) Dipendente Primo ...</td>\n",
              "      <td>40% - (LNF:CSN2) CYGNO (Ricercatore)\\n  30% - ...</td>\n",
              "      <td></td>\n",
              "    </tr>\n",
              "    <tr>\n",
              "      <th>890</th>\n",
              "      <td>Marafini</td>\n",
              "      <td>Michela</td>\n",
              "      <td>38</td>\n",
              "      <td>F</td>\n",
              "      <td>(01/01/2020 - 31/12/2020) Associato Scientific...</td>\n",
              "      <td>20% - (ROMA1:CSN2) CYGNO (Ricercatore)</td>\n",
              "      <td></td>\n",
              "    </tr>\n",
              "    <tr>\n",
              "      <th>950</th>\n",
              "      <td>Mazzitelli</td>\n",
              "      <td>Giovanni</td>\n",
              "      <td>54</td>\n",
              "      <td>M</td>\n",
              "      <td>(03/02/1997 - nessuna scad.) Dipendente Primo ...</td>\n",
              "      <td>60% - (LNF:CSN2) CYGNO (Ricercatore)\\n  40% - ...</td>\n",
              "      <td></td>\n",
              "    </tr>\n",
              "    <tr>\n",
              "      <th>957</th>\n",
              "      <td>Mengucci</td>\n",
              "      <td>Alessandro</td>\n",
              "      <td>63</td>\n",
              "      <td>M</td>\n",
              "      <td>(16/06/1977 - nessuna scad.) Dipendente Operat...</td>\n",
              "      <td>10% - (LNF:CSN2) CYGNO (Tecnico)\\n  30% - (LNF...</td>\n",
              "      <td></td>\n",
              "    </tr>\n",
              "    <tr>\n",
              "      <th>969</th>\n",
              "      <td>Messina</td>\n",
              "      <td>Andrea</td>\n",
              "      <td>43</td>\n",
              "      <td>M</td>\n",
              "      <td>(01/01/2020 - 31/12/2020) Associato Incarico d...</td>\n",
              "      <td>30% - (ROMA1:CSN2) CYGNO (Ricercatore)\\n  60% ...</td>\n",
              "      <td></td>\n",
              "    </tr>\n",
              "    <tr>\n",
              "      <th>1108</th>\n",
              "      <td>Paoletti</td>\n",
              "      <td>Emiliano</td>\n",
              "      <td>45</td>\n",
              "      <td>M</td>\n",
              "      <td>(05/05/2014 - nessuna scad.) Dipendente Collab...</td>\n",
              "      <td>50% - (LNF:CSN2) CYGNO (Tecnico)</td>\n",
              "      <td></td>\n",
              "    </tr>\n",
              "    <tr>\n",
              "      <th>1130</th>\n",
              "      <td>Passamonti</td>\n",
              "      <td>Luciano</td>\n",
              "      <td>63</td>\n",
              "      <td>M</td>\n",
              "      <td>(16/04/1977 - nessuna scad.) Dipendente Collab...</td>\n",
              "      <td>20% - (LNF:CSN2) CYGNO (Tecnico)</td>\n",
              "      <td></td>\n",
              "    </tr>\n",
              "    <tr>\n",
              "      <th>1172</th>\n",
              "      <td>Petrucci</td>\n",
              "      <td>Fabrizio</td>\n",
              "      <td>46</td>\n",
              "      <td>M</td>\n",
              "      <td>(01/01/2020 - 31/12/2020) Associato Incarico d...</td>\n",
              "      <td>30% - (ROMA3:CSN2) CYGNO (Ricercatore)\\n  30% ...</td>\n",
              "      <td></td>\n",
              "    </tr>\n",
              "    <tr>\n",
              "      <th>1181</th>\n",
              "      <td>Piccolo</td>\n",
              "      <td>Davide</td>\n",
              "      <td>55</td>\n",
              "      <td>M</td>\n",
              "      <td>(01/01/1997 - nessuna scad.) Dipendente Primo ...</td>\n",
              "      <td>20% - (LNF:CSN2) CYGNO (Ricercatore)</td>\n",
              "      <td></td>\n",
              "    </tr>\n",
              "    <tr>\n",
              "      <th>1187</th>\n",
              "      <td>Pierluigi</td>\n",
              "      <td>Daniele</td>\n",
              "      <td>43</td>\n",
              "      <td>M</td>\n",
              "      <td>(04/02/2008 - nessuna scad.) Dipendente Collab...</td>\n",
              "      <td>20% - (LNF:CSN2) CYGNO (Tecnico)</td>\n",
              "      <td></td>\n",
              "    </tr>\n",
              "    <tr>\n",
              "      <th>1197</th>\n",
              "      <td>Pinci</td>\n",
              "      <td>Davide</td>\n",
              "      <td>46</td>\n",
              "      <td>M</td>\n",
              "      <td>(01/02/2008 - nessuna scad.) Dipendente Ricerc...</td>\n",
              "      <td>40% - (ROMA1:CSN2) CYGNO (Ricercatore)\\n  10% ...</td>\n",
              "      <td></td>\n",
              "    </tr>\n",
              "    <tr>\n",
              "      <th>1279</th>\n",
              "      <td>Renga</td>\n",
              "      <td>Francesco</td>\n",
              "      <td>39</td>\n",
              "      <td>M</td>\n",
              "      <td>(02/03/2015 - nessuna scad.) Dipendente Ricerc...</td>\n",
              "      <td>30% - (ROMA1:CSN2) CYGNO (Ricercatore)\\n  10% ...</td>\n",
              "      <td></td>\n",
              "    </tr>\n",
              "    <tr>\n",
              "      <th>1320</th>\n",
              "      <td>Rosatelli</td>\n",
              "      <td>Filippo</td>\n",
              "      <td>34</td>\n",
              "      <td>M</td>\n",
              "      <td></td>\n",
              "      <td>30% - (LNF:CSN2) CYGNO (Tecnico)</td>\n",
              "      <td></td>\n",
              "    </tr>\n",
              "    <tr>\n",
              "      <th>1339</th>\n",
              "      <td>Russo</td>\n",
              "      <td>Alessandro</td>\n",
              "      <td>43</td>\n",
              "      <td>M</td>\n",
              "      <td>(04/02/2008 - nessuna scad.) Dipendente Collab...</td>\n",
              "      <td>20% - (LNF:CSN2) CYGNO (Tecnico)</td>\n",
              "      <td></td>\n",
              "    </tr>\n",
              "    <tr>\n",
              "      <th>1368</th>\n",
              "      <td>Saviano</td>\n",
              "      <td>Giovanna</td>\n",
              "      <td>59</td>\n",
              "      <td>F</td>\n",
              "      <td>(01/01/2020 - 31/12/2020) Associato Tecnologic...</td>\n",
              "      <td>20% - (LNF:CSN2) CYGNO (Ricercatore)</td>\n",
              "      <td></td>\n",
              "    </tr>\n",
              "    <tr>\n",
              "      <th>1475</th>\n",
              "      <td>Tesauro</td>\n",
              "      <td>Roberto</td>\n",
              "      <td>42</td>\n",
              "      <td>M</td>\n",
              "      <td>(16/03/2020 - 15/03/2022) Dipendente Collabora...</td>\n",
              "      <td>0% - (LNF:CSN2) CYGNO (Tecnico)\\n  100% - (LNF...</td>\n",
              "      <td>NRC_INITIUM (16-03-2020 / 15-03-2022)</td>\n",
              "    </tr>\n",
              "    <tr>\n",
              "      <th>1487</th>\n",
              "      <td>Tomassini</td>\n",
              "      <td>Sandro</td>\n",
              "      <td>49</td>\n",
              "      <td>M</td>\n",
              "      <td>(24/12/2004 - nessuna scad.) Dipendente Tecnol...</td>\n",
              "      <td>10% - (LNF:CSN2) CYGNO (Tecnologo)\\n  10% - (L...</td>\n",
              "      <td></td>\n",
              "    </tr>\n",
              "  </tbody>\n",
              "</table>\n",
              "</div>"
            ],
            "text/plain": [
              "         Cognome  ...                Finanziamenti Contratto\n",
              "80    Baracchini  ...                                       \n",
              "106      Bedogni  ...                                       \n",
              "123      Benussi  ...                                       \n",
              "149       Bianco  ...                                       \n",
              "250     Capoccia  ...                                       \n",
              "253     Caponero  ...                                       \n",
              "308       Cavoto  ...                                       \n",
              "422    D'Imperio  ...                                       \n",
              "514     Di Marco  ...                                       \n",
              "742   Iacoangeli  ...                                       \n",
              "855   Maccarrone  ...                                       \n",
              "890     Marafini  ...                                       \n",
              "950   Mazzitelli  ...                                       \n",
              "957     Mengucci  ...                                       \n",
              "969      Messina  ...                                       \n",
              "1108    Paoletti  ...                                       \n",
              "1130  Passamonti  ...                                       \n",
              "1172    Petrucci  ...                                       \n",
              "1181     Piccolo  ...                                       \n",
              "1187   Pierluigi  ...                                       \n",
              "1197       Pinci  ...                                       \n",
              "1279       Renga  ...                                       \n",
              "1320   Rosatelli  ...                                       \n",
              "1339       Russo  ...                                       \n",
              "1368     Saviano  ...                                       \n",
              "1475     Tesauro  ...  NRC_INITIUM (16-03-2020 / 15-03-2022)\n",
              "1487   Tomassini  ...                                       \n",
              "\n",
              "[27 rows x 7 columns]"
            ]
          },
          "metadata": {
            "tags": []
          },
          "execution_count": 24
        }
      ]
    },
    {
      "cell_type": "code",
      "metadata": {
        "id": "f__FkGRoml1q",
        "colab": {
          "base_uri": "https://localhost:8080/"
        },
        "outputId": "8e5e4228-d379-4d4e-c2b8-898989a9f74b"
      },
      "source": [
        "# progetti attivi in CSN2\n",
        "np.array(fe_attivi[fe_attivi['CNS']==2].PROGETTO)"
      ],
      "execution_count": 27,
      "outputs": [
        {
          "output_type": "execute_result",
          "data": {
            "text/plain": [
              "array(['PRIN-2015L33WAK_002', 'ALTRO-ADAM', 'UE-AHEAD2020',\n",
              "       'ALTRO-AMS_02_19', 'ALTRO-AMS_E2_035', 'ALTRO-ARIA',\n",
              "       'ALTRO-ASI_AMS', 'ALTRO-ASI_I_APS', 'ALTRO-ASI_INAF_EG',\n",
              "       'ALTRO-ASI_INAF_FLUCHE', 'UE-ASPERA_2_235489', 'ALTRO-AUGERNEXT',\n",
              "       'ALTRO-BOREXINO_CF', 'ALTRO-BOREXINO_CF_PFE', 'UE-CALDER',\n",
              "       'ALTRO-CIR01_00018_IPA', 'ALTRO-CIR01_00020_FAR',\n",
              "       'ALTRO-CIR01_00021_PAC', 'ALTRO-COSMOTRIG', 'UE-DARKWAVE',\n",
              "       'ALTRO-DARWIN', 'UE-ENUBET', 'UE-ERN_APULIA', 'UE-ERN_APULIA2',\n",
              "       'ALTRO-ESONET_TEST_EXP', 'UE-ESSNUSB', 'ALTRO-EUCLID_FASE_D',\n",
              "       'ALTRO-EXTP', 'PON-FARO2030_PON', 'ALTRO-GAMMARAD',\n",
              "       'ALTRO-GAPS_ASI', 'ALTRO-GERDA_CF', 'UE-HOLMES_340321',\n",
              "       'POR-IDMAR', 'POR-IDMAR_PO_FESR', 'ALTRO-IDMAR_PO_FESR',\n",
              "       'ALTRO-ILIAS', 'POR-INFN_RT2', 'ALTRO-INGV_PORTO', 'UE-INITIUM',\n",
              "       'PON-IPANEMA_PON', 'ALTRO-ISOTTA', 'ALTRO-IXPE', 'ALTRO-LIMADOU_2',\n",
              "       'UE-MEGANTE', 'ALTRO-NUTECH', 'ALTRO-OPERA_CF', 'PON-PACK_PON',\n",
              "       'ALTRO-PAMELA_E', 'ALTRO-PAMELA_SIEGEN', 'UE-PAN',\n",
              "       'PRIN-PRIN10_GEMME', 'PRIN-PRIN_201744NR8S',\n",
              "       'ALTRO-PRIN_20179F8XWS', 'PRIN-PRIN_2017FJZMCJ',\n",
              "       'ALTRO-PRIN_2017KC8WMB', 'PRIN-PRIN_2017SYRTCN',\n",
              "       'PRIN-PRIN_2017T54J9J', 'ALTRO-QUBIC_FE', 'UE-SUPERGALAX',\n",
              "       'ALTRO-TENMA', 'ALTRO-VIRGO_MIUR', 'ALTRO-VST_INAF_GR_2'],\n",
              "      dtype=object)"
            ]
          },
          "metadata": {
            "tags": []
          },
          "execution_count": 27
        }
      ]
    },
    {
      "cell_type": "code",
      "metadata": {
        "id": "5V_e_BRbZzAa",
        "colab": {
          "base_uri": "https://localhost:8080/",
          "height": 419
        },
        "outputId": "2091bb80-a181-42e6-f225-378e2626a7fd"
      },
      "source": [
        "CSN2[CSN2.Esperimenti.str.contains('LIMADOU')]"
      ],
      "execution_count": 28,
      "outputs": [
        {
          "output_type": "execute_result",
          "data": {
            "text/html": [
              "<div>\n",
              "<style scoped>\n",
              "    .dataframe tbody tr th:only-of-type {\n",
              "        vertical-align: middle;\n",
              "    }\n",
              "\n",
              "    .dataframe tbody tr th {\n",
              "        vertical-align: top;\n",
              "    }\n",
              "\n",
              "    .dataframe thead th {\n",
              "        text-align: right;\n",
              "    }\n",
              "</style>\n",
              "<table border=\"1\" class=\"dataframe\">\n",
              "  <thead>\n",
              "    <tr style=\"text-align: right;\">\n",
              "      <th></th>\n",
              "      <th>Cognome</th>\n",
              "      <th>Nome</th>\n",
              "      <th>Eta'</th>\n",
              "      <th>Genere</th>\n",
              "      <th>Contratti</th>\n",
              "      <th>Esperimenti</th>\n",
              "      <th>Finanziamenti Contratto</th>\n",
              "    </tr>\n",
              "  </thead>\n",
              "  <tbody>\n",
              "    <tr>\n",
              "      <th>57</th>\n",
              "      <td>Assante</td>\n",
              "      <td>Dario</td>\n",
              "      <td>41</td>\n",
              "      <td>M</td>\n",
              "      <td></td>\n",
              "      <td>60% - (LNF:CSN2) LIMADOU_CSN2 (Ricercatore)\\n ...</td>\n",
              "      <td></td>\n",
              "    </tr>\n",
              "    <tr>\n",
              "      <th>65</th>\n",
              "      <td>Badoni</td>\n",
              "      <td>Davide</td>\n",
              "      <td>60</td>\n",
              "      <td>M</td>\n",
              "      <td>(02/05/1985 - nessuna scad.) Dipendente Tecnol...</td>\n",
              "      <td>50% - (ROMA2:CSN2) LIMADOU_CSN2 (Tecnologo)</td>\n",
              "      <td></td>\n",
              "    </tr>\n",
              "    <tr>\n",
              "      <th>89</th>\n",
              "      <td>Bartocci</td>\n",
              "      <td>Simona</td>\n",
              "      <td>39</td>\n",
              "      <td>F</td>\n",
              "      <td>(04/06/2020 - 03/06/2021) Dipendente Collabora...</td>\n",
              "      <td>100% - (ROMA2:CSN2) LIMADOU_CSN2 (Ricercatore)</td>\n",
              "      <td>LIMADOU 2 (04-06-2020 / 03-06-2021)</td>\n",
              "    </tr>\n",
              "    <tr>\n",
              "      <th>102</th>\n",
              "      <td>Battiston</td>\n",
              "      <td>Roberto</td>\n",
              "      <td>64</td>\n",
              "      <td>M</td>\n",
              "      <td>(01/01/2020 - 31/12/2020) Associato Incarico d...</td>\n",
              "      <td>40% - (TIFP:CSN2) AMS2 (Ricercatore)\\n  30% - ...</td>\n",
              "      <td></td>\n",
              "    </tr>\n",
              "    <tr>\n",
              "      <th>122</th>\n",
              "      <td>Benotto</td>\n",
              "      <td>Franco</td>\n",
              "      <td>51</td>\n",
              "      <td>M</td>\n",
              "      <td>(16/11/1988 - nessuna scad.) Dipendente Collab...</td>\n",
              "      <td>44% - (TO:CSN2) LIMADOU_CSN2 (Tecnico)</td>\n",
              "      <td></td>\n",
              "    </tr>\n",
              "    <tr>\n",
              "      <th>...</th>\n",
              "      <td>...</td>\n",
              "      <td>...</td>\n",
              "      <td>...</td>\n",
              "      <td>...</td>\n",
              "      <td>...</td>\n",
              "      <td>...</td>\n",
              "      <td>...</td>\n",
              "    </tr>\n",
              "    <tr>\n",
              "      <th>1422</th>\n",
              "      <td>Sparvoli</td>\n",
              "      <td>Roberta</td>\n",
              "      <td>50</td>\n",
              "      <td>F</td>\n",
              "      <td>(01/01/2020 - 31/12/2020) Associato Incarico d...</td>\n",
              "      <td>30% - (ROMA2:CSN2) GAPS (Ricercatore)\\n  60% -...</td>\n",
              "      <td></td>\n",
              "    </tr>\n",
              "    <tr>\n",
              "      <th>1423</th>\n",
              "      <td>Spataro</td>\n",
              "      <td>Bruno</td>\n",
              "      <td>73</td>\n",
              "      <td>M</td>\n",
              "      <td>(01/01/2020 - 31/12/2020) Associato Incarico d...</td>\n",
              "      <td>0% - (LNF:CSN2) LIMADOU_CSN2 (Ricercatore)</td>\n",
              "      <td></td>\n",
              "    </tr>\n",
              "    <tr>\n",
              "      <th>1494</th>\n",
              "      <td>Tosi</td>\n",
              "      <td>Paolo</td>\n",
              "      <td>64</td>\n",
              "      <td>M</td>\n",
              "      <td>(01/01/2020 - 31/12/2020) Associato Scientific...</td>\n",
              "      <td>30% - (TIFP:CSN2) LIMADOU_CSN2 (Ricercatore)</td>\n",
              "      <td></td>\n",
              "    </tr>\n",
              "    <tr>\n",
              "      <th>1560</th>\n",
              "      <td>Vitale</td>\n",
              "      <td>Vincenzo</td>\n",
              "      <td>46</td>\n",
              "      <td>M</td>\n",
              "      <td>(01/10/2018 - nessuna scad.) Dipendente Ricerc...</td>\n",
              "      <td>5% - (ROMA2:CSN2) AHEAD2020 (Ricercatore)\\n  7...</td>\n",
              "      <td></td>\n",
              "    </tr>\n",
              "    <tr>\n",
              "      <th>1590</th>\n",
              "      <td>Zuccon</td>\n",
              "      <td>Paolo</td>\n",
              "      <td>47</td>\n",
              "      <td>M</td>\n",
              "      <td>(01/01/2020 - 31/12/2020) Associato Incarico d...</td>\n",
              "      <td>70% - (TIFP:CSN2) AMS2 (Ricercatore)\\n  20% - ...</td>\n",
              "      <td></td>\n",
              "    </tr>\n",
              "  </tbody>\n",
              "</table>\n",
              "<p>64 rows × 7 columns</p>\n",
              "</div>"
            ],
            "text/plain": [
              "        Cognome  ...              Finanziamenti Contratto\n",
              "57      Assante  ...                                     \n",
              "65       Badoni  ...                                     \n",
              "89     Bartocci  ...  LIMADOU 2 (04-06-2020 / 03-06-2021)\n",
              "102   Battiston  ...                                     \n",
              "122     Benotto  ...                                     \n",
              "...         ...  ...                                  ...\n",
              "1422   Sparvoli  ...                                     \n",
              "1423    Spataro  ...                                     \n",
              "1494       Tosi  ...                                     \n",
              "1560     Vitale  ...                                     \n",
              "1590     Zuccon  ...                                     \n",
              "\n",
              "[64 rows x 7 columns]"
            ]
          },
          "metadata": {
            "tags": []
          },
          "execution_count": 28
        }
      ]
    },
    {
      "cell_type": "code",
      "metadata": {
        "colab": {
          "base_uri": "https://localhost:8080/"
        },
        "id": "4IWMs9b9GTKK",
        "outputId": "13fda30f-4256-48d2-a095-6aa5edc58c63"
      },
      "source": [
        "fe_attivi[fe_attivi['CNS']==2].PROGETTO"
      ],
      "execution_count": 36,
      "outputs": [
        {
          "output_type": "execute_result",
          "data": {
            "text/plain": [
              "0      PRIN-2015L33WAK_002\n",
              "3               ALTRO-ADAM\n",
              "5             UE-AHEAD2020\n",
              "7          ALTRO-AMS_02_19\n",
              "8         ALTRO-AMS_E2_035\n",
              "              ...         \n",
              "262         ALTRO-QUBIC_FE\n",
              "295          UE-SUPERGALAX\n",
              "301            ALTRO-TENMA\n",
              "309       ALTRO-VIRGO_MIUR\n",
              "312    ALTRO-VST_INAF_GR_2\n",
              "Name: PROGETTO, Length: 63, dtype: object"
            ]
          },
          "metadata": {
            "tags": []
          },
          "execution_count": 36
        }
      ]
    },
    {
      "cell_type": "code",
      "metadata": {
        "id": "o0TlUbU0qXvv",
        "colab": {
          "base_uri": "https://localhost:8080/",
          "height": 49
        },
        "outputId": "27578a8e-0568-442d-a938-d56e917cd50e"
      },
      "source": [
        "# cerca tutte le persone con progetti attivi in CSN2 e crea il DB\n",
        "fe_people = pd.DataFrame(columns=CSN2.columns)\n",
        "for i, progetto in enumerate(fe_attivi[fe_attivi['CNS']==2].PROGETTO):\n",
        "    fe_people = fe_people.append(CSN2[CSN2.Esperimenti.str.contains(progetto)])\n",
        "fe_people"
      ],
      "execution_count": 43,
      "outputs": [
        {
          "output_type": "execute_result",
          "data": {
            "text/html": [
              "<div>\n",
              "<style scoped>\n",
              "    .dataframe tbody tr th:only-of-type {\n",
              "        vertical-align: middle;\n",
              "    }\n",
              "\n",
              "    .dataframe tbody tr th {\n",
              "        vertical-align: top;\n",
              "    }\n",
              "\n",
              "    .dataframe thead th {\n",
              "        text-align: right;\n",
              "    }\n",
              "</style>\n",
              "<table border=\"1\" class=\"dataframe\">\n",
              "  <thead>\n",
              "    <tr style=\"text-align: right;\">\n",
              "      <th></th>\n",
              "      <th>Cognome</th>\n",
              "      <th>Nome</th>\n",
              "      <th>Eta'</th>\n",
              "      <th>Genere</th>\n",
              "      <th>Contratti</th>\n",
              "      <th>Esperimenti</th>\n",
              "      <th>Finanziamenti Contratto</th>\n",
              "    </tr>\n",
              "  </thead>\n",
              "  <tbody>\n",
              "  </tbody>\n",
              "</table>\n",
              "</div>"
            ],
            "text/plain": [
              "Empty DataFrame\n",
              "Columns: [Cognome, Nome, Eta', Genere, Contratti, Esperimenti, Finanziamenti Contratto]\n",
              "Index: []"
            ]
          },
          "metadata": {
            "tags": []
          },
          "execution_count": 43
        }
      ]
    },
    {
      "cell_type": "code",
      "metadata": {
        "id": "y0OsNr7j3G6Y"
      },
      "source": [
        "# ipotizando un progetto esterno per persona agginge le colonne nome del progetto e percentuale sul FE\n",
        "fe_attivita = np.empty((len(fe_people)), dtype=object)\n",
        "fe_pp =  np.empty((len(fe_people)), dtype=object)\n",
        "for i, esperimenti in enumerate(fe_people.Esperimenti):\n",
        "  for j, fe_progetto in enumerate(fe_attivi[fe_attivi['Research line']==2].Project):\n",
        "    if esperimenti.find(fe_progetto)>=0:\n",
        "      esp_arr = esperimenti.split('\\n')   \n",
        "      for k in range(len(esp_arr)):\n",
        "        if esp_arr[k].find(fe_progetto)>=0:\n",
        "          fe_pp[i] = np.int(esp_arr[k].split('%')[0])\n",
        "          fe_attivita[i] = fe_progetto\n",
        "fe_people['fe_progetto'] = fe_attivita\n",
        "fe_people['fe_perc'] = fe_pp"
      ],
      "execution_count": 39,
      "outputs": []
    },
    {
      "cell_type": "code",
      "metadata": {
        "id": "luBmRyV2HaNF",
        "colab": {
          "base_uri": "https://localhost:8080/",
          "height": 265
        },
        "outputId": "d9a1823e-3ff6-4bf4-cb9d-d6463d036e24"
      },
      "source": [
        "print ('Tottle FTE su FE: ', fe_people.fe_perc.sum()/100)\n",
        "fe_density = fe_people['fe_perc'].groupby(fe_people['fe_progetto']).sum()/100\n",
        "plt.pie(fe_density)\n",
        "plt.show()"
      ],
      "execution_count": 40,
      "outputs": [
        {
          "output_type": "stream",
          "text": [
            "Tottle FTE su FE:  0.0\n"
          ],
          "name": "stdout"
        },
        {
          "output_type": "display_data",
          "data": {
            "image/png": "[encoded data removed]",
            "text/plain": [
              "<Figure size 432x288 with 1 Axes>"
            ]
          },
          "metadata": {
            "tags": []
          }
        }
      ]
    },
    {
      "cell_type": "code",
      "metadata": {
        "id": "-fv6ybhvQOMK",
        "colab": {
          "base_uri": "https://localhost:8080/"
        },
        "outputId": "750f4a06-f417-48af-d1d2-699d2f116f24"
      },
      "source": [
        "fe_density"
      ],
      "execution_count": 41,
      "outputs": [
        {
          "output_type": "execute_result",
          "data": {
            "text/plain": [
              "Series([], Name: fe_perc, dtype: float64)"
            ]
          },
          "metadata": {
            "tags": []
          },
          "execution_count": 41
        }
      ]
    },
    {
      "cell_type": "code",
      "metadata": {
        "id": "-b9dHaycQZS6",
        "colab": {
          "base_uri": "https://localhost:8080/"
        },
        "outputId": "46170bff-4982-40a0-a1d6-9ada361d80e5"
      },
      "source": [
        "np.array(fe_people.fe_progetto)"
      ],
      "execution_count": 42,
      "outputs": [
        {
          "output_type": "execute_result",
          "data": {
            "text/plain": [
              "array([], dtype=object)"
            ]
          },
          "metadata": {
            "tags": []
          },
          "execution_count": 42
        }
      ]
    },
    {
      "cell_type": "code",
      "metadata": {
        "id": "i-Oyl5p1Ty2y"
      },
      "source": [
        ""
      ],
      "execution_count": null,
      "outputs": []
    }
  ]
}